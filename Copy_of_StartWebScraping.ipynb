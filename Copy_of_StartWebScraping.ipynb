{
  "nbformat": 4,
  "nbformat_minor": 0,
  "metadata": {
    "colab": {
      "name": "Copy of StartWebScraping.ipynb",
      "provenance": [],
      "collapsed_sections": [],
      "include_colab_link": true
    },
    "kernelspec": {
      "name": "python3",
      "display_name": "Python 3"
    }
  },
  "cells": [
    {
      "cell_type": "markdown",
      "metadata": {
        "id": "view-in-github",
        "colab_type": "text"
      },
      "source": [
        "<a href=\"https://colab.research.google.com/github/toopidjack/resources/blob/master/Copy_of_StartWebScraping.ipynb\" target=\"_parent\"><img src=\"https://colab.research.google.com/assets/colab-badge.svg\" alt=\"Open In Colab\"/></a>"
      ]
    },
    {
      "cell_type": "markdown",
      "metadata": {
        "id": "5ceOE25ZsP2P",
        "colab_type": "text"
      },
      "source": [
        "# Get started\n",
        "\n",
        "Imoprt modules we'll need to get started\n",
        "\n",
        "\n",
        "\n",
        "[Requests](http://docs.python-requests.org/en/master/)\n",
        "\n",
        "[Beautiful soup](https://www.crummy.com/software/BeautifulSoup/)\n",
        "\n",
        "[Pandas](https://pandas.pydata.org/)\n",
        "\n",
        "[NLTK](https://www.nltk.org/)\n",
        "\n",
        "\n",
        "When you have time go read more about them from the links above!"
      ]
    },
    {
      "cell_type": "code",
      "metadata": {
        "id": "T0h77uEbEC1k",
        "colab_type": "code",
        "colab": {}
      },
      "source": [
        "# import request & beautiful soup\n",
        "# request is for getting content from a URL\n",
        "# beautiful soup is used to parse through the HTML we get from requests\n",
        "\n",
        "import requests\n",
        "from bs4 import BeautifulSoup\n",
        "\n"
      ],
      "execution_count": 0,
      "outputs": []
    },
    {
      "cell_type": "markdown",
      "metadata": {
        "id": "USL3jIIbvSXu",
        "colab_type": "text"
      },
      "source": [
        "Make a request to this page [sageelliott.com/scrape/](https://sageelliott.com/scrape/)\n",
        "\n",
        "This page has elements I made that will be good practice for web scraping\n"
      ]
    },
    {
      "cell_type": "code",
      "metadata": {
        "id": "fisiQTBZsWam",
        "colab_type": "code",
        "colab": {}
      },
      "source": [
        "# Make the request to a url\n",
        "# Assign it to a variable 'r'\n",
        "\n",
        "r = requests.get('https://sageelliott.com/scrape/')\n"
      ],
      "execution_count": 0,
      "outputs": []
    },
    {
      "cell_type": "code",
      "metadata": {
        "id": "kaDlHrIJvvzP",
        "colab_type": "code",
        "outputId": "dc036cd7-9d49-4862-dd8a-1edd2db067b8",
        "colab": {
          "base_uri": "https://localhost:8080/",
          "height": 55
        }
      },
      "source": [
        "# Lets look at what the request content looks like\n",
        "\n",
        "print(r.content)"
      ],
      "execution_count": 0,
      "outputs": [
        {
          "output_type": "stream",
          "text": [
            "b'<!DOCTYPE html>\\n<html>\\n\\n  <head>\\n  <meta charset=\"utf-8\">\\n  <meta http-equiv=\"X-UA-Compatible\" content=\"IE=edge\">\\n  <meta name=\"viewport\" content=\"width=device-width, initial-scale=1\">\\n\\n  <title>Web Scraping | Sage Elliott \\xf0\\x9f\\xa5\\x91</title>\\n  <meta name=\"description\" content=\"I make things.\">\\n\\n  <link rel=\"stylesheet\" href=\"/css/main.css\">\\n  <link rel=\"canonical\" href=\"http://sageelliott.com/scrape/\">\\n  <link rel=\"alternate\" type=\"application/rss+xml\" title=\"Sage Elliott \\xf0\\x9f\\xa5\\x91\" href=\"http://sageelliott.com/feed.xml\">\\n  <script src=\"https://code.jquery.com/jquery-2.1.3.min.js\"></script>\\n  <script src=\"/js/bootstrap.min.js\"></script>\\n  <script src=\"/js/script.js\"></script>\\n  <link rel=\"stylesheet\" href=\"/css/bootstrap.min.css\">\\n  <link rel=\"stylesheet\" href=\"/css/bootstrap-theme.min.css\">\\n  <link rel=\"stylesheet\" href=\"/css/style.css\">\\n  <link rel=\"stylesheet\" href=\"/css/responsive.css\">\\n  <link href=\\'https://fonts.googleapis.com/css?family=Pathway+Gothic+One|Alegreya:400italic,700italic,400,700|Alegreya+SC\\' rel=\\'stylesheet\\' type=\\'text/css\\'>\\n  <!-- Global site tag (gtag.js) - Google Analytics -->\\n  <script async src=\"https://www.googletagmanager.com/gtag/js?id=UA-121052385-1\"></script>\\n  <script>\\n    window.dataLayer = window.dataLayer || [];\\n    function gtag(){dataLayer.push(arguments);}\\n    gtag(\\'js\\', new Date());\\n\\n    gtag(\\'config\\', \\'UA-121052385-1\\');\\n  </script>\\n</head>\\n  <link rel=\"icon\" type=\"image/png\" href=\"/img/logoblack.png\">\\n\\n  <body data-spy=\"scroll\", data-target=\".navbar-collapse\">\\n\\n    <header class=\"site-header\">\\n\\n<!--   <div class=\"wrapper\">\\n -->\\n\\n  <!-- Navigation\\n==========================================================================-->\\n\\n<nav class=\"navbar navbar-default navbar-fixed-top\">\\n    <div class=\"container-fluid\">\\n        <!-- Brand and toggle get grouped for better mobile display -->\\n        <div class=\"navbar-header\">\\n            <button type=\"button\" class=\"navbar-toggle collapsed\" data-toggle=\"collapse\" data-target=\"#bs-example-navbar-collapse-1\" aria-expanded=\"false\">\\n                Menu\\n            </button>\\n            <!-- <a class=\"logo\" class=\"navbar-brand\" href=\"/\"><img alt=\"Sage Elliott Logo\" src=\"/img/logoblack.png\"> </a> -->\\n            <ul class=\"nav navbar-nav navbar-text\">\\n                <li><a href=\"/\">Sage Elliott</a></li>\\n            </ul>\\n        </div>\\n\\n        <!-- Collect the nav links, forms, and other content for toggling -->\\n        <div class=\"collapse navbar-collapse\" id=\"bs-example-navbar-collapse-1\">\\n            <ul class=\"nav navbar-nav navbar-text\">\\n                <!-- <li><a href=\"/\">Sage Elliott</a></li> -->\\n            </ul>\\n            <ul class=\"nav navbar-nav navbar-right\">\\n                <li><a class=\"page-link\" href=\"/\">About</a></li>\\n                <li><a class=\"page-link\" href=\"/projects\">Projects</a></li>\\n                <li><a class=\"page-link\" href=\"/blog\">Blog</a></li>\\n                <li><a class=\"page-link\" href=\"/speaking\">Speaking</a></li>\\n\\n            </ul>\\n        </div>\\n        <!-- /.navbar-collapse -->\\n    </div>\\n    <!-- /.container-fluid -->\\n</nav>\\n<!-- </div>\\n -->\\n\\n\\n</header>\\n\\n\\n\\n    <div class=\"page-content\">\\n    <div class=\"outer-wrapper\">\\n      <div class=\"wrapper\">\\n        <div class=\"main-content\">\\n<h1>Lots of stuff to try web scraping on!</h1>\\n\\n<p>This page is full of different tags that you will commonly see\\n    out in the wild on the web!</p>\\n\\n<h1>Example headlines</h1>\\n\\n<h2 class=\"headline\">I love this!</h2>\\n<h2 class=\"headline\">I hate this so much!</h2>\\n<h2 class=\"headline\">The dumbest thing happened</h2>\\n<h2 class=\"headline\">This is a great workshop!</h2>\\n<h2 class=\"headline\">This workshop is horrible</h2>\\n<h2 class=\"headline\">I\\'m tired...</h2>\\n<h2 class=\"headline\">This thing is ok...</h2>\\n\\n<h1>Example unordered list</h1>\\n\\n<ul>\\n    <li>Elon Musk is worth $21,000,000,000</li>\\n    <li>Jeff Bezos is worth $137,000,400,000 </li>\\n    <li>Bill Gates is worth $95,000,000,000</li>\\n    <li>Mark Zuckerburg is worth $54,600,000,000</li>\\n</ul>\\n\\n<h1>Example links</h1>\\n\\n<a href=\"https://www.galvanize.com/data-science-prep\">Data Science Free prep</a>\\n<a href=\"http://docs.python-requests.org/en/master/\">Python Requests</a>\\n<a href=\"https://www.crummy.com/software/BeautifulSoup/\">Beautiful Soup</a>\\n<a href=\"https://pandas.pydata.org/\">Pandas</a>\\n<a href=\"https://www.nltk.org/\">NLTK</a>\\n<a href=\"https://scrapy.org/\">Scrapy</a>\\n<a href=\"https://www.anaconda.com/\">Anaconda</a>\\n\\n</div>\\n      </div>\\n    </div>\\n\\n\\n    \\n<section id=\"footer\">\\n            <div class=\"row\">\\n                <div class=\"col-md-12\">\\n                    <p class=\"footerp\">\\n                        <a class=\"logo\" class=\"navbar-brand\" href=\"#top\">Sage Elliott</a>\\n                        <br>\\n                        <a href=\"mailto:hello@sageelliott.com\">hello@SageElliott.com</a>\\n                        <br>\\n                        <a href=\"https://twitter.com/sagecodes\">twitter</a> |\\n                        <a href=\"https://github.com/sagecodes\">github</a> |\\n                        <a href=\"https://www.linkedin.com/in/sageelliott\">linkedin</a>\\n                        <br> &copy; 2019 Sage Elliott\\n                    </p>\\n                </div>\\n            </div>\\n        </section>\\n\\n    </div>\\n\\n  </body>\\n\\n</html>\\n'\n"
          ],
          "name": "stdout"
        }
      ]
    },
    {
      "cell_type": "markdown",
      "metadata": {
        "id": "qaxIk_fiqTG1",
        "colab_type": "text"
      },
      "source": [
        "That is a really big really ugly string! \n",
        "\n",
        "Lets use Beautiful Soup on content from requests \n",
        "This will make it much more readble when we print it out and allow us to use more Beautifulsoup functionality"
      ]
    },
    {
      "cell_type": "code",
      "metadata": {
        "id": "e2g1gmvAvnAS",
        "colab_type": "code",
        "colab": {}
      },
      "source": [
        "# use Beautifulsoup on content from request\n",
        "# c = r.content\n",
        "\n",
        "soup = BeautifulSoup(r.content)"
      ],
      "execution_count": 0,
      "outputs": []
    },
    {
      "cell_type": "code",
      "metadata": {
        "id": "mArM7Ee5v72j",
        "colab_type": "code",
        "outputId": "15ad2183-e043-435f-a86f-725110842bb2",
        "colab": {
          "base_uri": "https://localhost:8080/",
          "height": 1000
        }
      },
      "source": [
        "# Look at the content formatted with Beautifulsoup\n",
        "\n",
        "print(soup)"
      ],
      "execution_count": 0,
      "outputs": [
        {
          "output_type": "stream",
          "text": [
            "<!DOCTYPE html>\n",
            "<html>\n",
            "<head>\n",
            "<meta charset=\"utf-8\"/>\n",
            "<meta content=\"IE=edge\" http-equiv=\"X-UA-Compatible\"/>\n",
            "<meta content=\"width=device-width, initial-scale=1\" name=\"viewport\"/>\n",
            "<title>Web Scraping | Sage Elliott 🥑</title>\n",
            "<meta content=\"I make things.\" name=\"description\"/>\n",
            "<link href=\"/css/main.css\" rel=\"stylesheet\"/>\n",
            "<link href=\"http://sageelliott.com/scrape/\" rel=\"canonical\"/>\n",
            "<link href=\"http://sageelliott.com/feed.xml\" rel=\"alternate\" title=\"Sage Elliott 🥑\" type=\"application/rss+xml\"/>\n",
            "<script src=\"https://code.jquery.com/jquery-2.1.3.min.js\"></script>\n",
            "<script src=\"/js/bootstrap.min.js\"></script>\n",
            "<script src=\"/js/script.js\"></script>\n",
            "<link href=\"/css/bootstrap.min.css\" rel=\"stylesheet\"/>\n",
            "<link href=\"/css/bootstrap-theme.min.css\" rel=\"stylesheet\"/>\n",
            "<link href=\"/css/style.css\" rel=\"stylesheet\"/>\n",
            "<link href=\"/css/responsive.css\" rel=\"stylesheet\"/>\n",
            "<link href=\"https://fonts.googleapis.com/css?family=Pathway+Gothic+One|Alegreya:400italic,700italic,400,700|Alegreya+SC\" rel=\"stylesheet\" type=\"text/css\"/>\n",
            "<!-- Global site tag (gtag.js) - Google Analytics -->\n",
            "<script async=\"\" src=\"https://www.googletagmanager.com/gtag/js?id=UA-121052385-1\"></script>\n",
            "<script>\n",
            "    window.dataLayer = window.dataLayer || [];\n",
            "    function gtag(){dataLayer.push(arguments);}\n",
            "    gtag('js', new Date());\n",
            "\n",
            "    gtag('config', 'UA-121052385-1');\n",
            "  </script>\n",
            "</head>\n",
            "<link href=\"/img/logoblack.png\" rel=\"icon\" type=\"image/png\"/>\n",
            "<body data-spy=\"scroll\" data-target=\".navbar-collapse\">\n",
            "<header class=\"site-header\">\n",
            "<!--   <div class=\"wrapper\">\n",
            " -->\n",
            "<!-- Navigation\n",
            "==========================================================================-->\n",
            "<nav class=\"navbar navbar-default navbar-fixed-top\">\n",
            "<div class=\"container-fluid\">\n",
            "<!-- Brand and toggle get grouped for better mobile display -->\n",
            "<div class=\"navbar-header\">\n",
            "<button aria-expanded=\"false\" class=\"navbar-toggle collapsed\" data-target=\"#bs-example-navbar-collapse-1\" data-toggle=\"collapse\" type=\"button\">\n",
            "                Menu\n",
            "            </button>\n",
            "<!-- <a class=\"logo\" class=\"navbar-brand\" href=\"/\"><img alt=\"Sage Elliott Logo\" src=\"/img/logoblack.png\"> </a> -->\n",
            "<ul class=\"nav navbar-nav navbar-text\">\n",
            "<li><a href=\"/\">Sage Elliott</a></li>\n",
            "</ul>\n",
            "</div>\n",
            "<!-- Collect the nav links, forms, and other content for toggling -->\n",
            "<div class=\"collapse navbar-collapse\" id=\"bs-example-navbar-collapse-1\">\n",
            "<ul class=\"nav navbar-nav navbar-text\">\n",
            "<!-- <li><a href=\"/\">Sage Elliott</a></li> -->\n",
            "</ul>\n",
            "<ul class=\"nav navbar-nav navbar-right\">\n",
            "<li><a class=\"page-link\" href=\"/\">About</a></li>\n",
            "<li><a class=\"page-link\" href=\"/projects\">Projects</a></li>\n",
            "<li><a class=\"page-link\" href=\"/blog\">Blog</a></li>\n",
            "<li><a class=\"page-link\" href=\"/speaking\">Speaking</a></li>\n",
            "</ul>\n",
            "</div>\n",
            "<!-- /.navbar-collapse -->\n",
            "</div>\n",
            "<!-- /.container-fluid -->\n",
            "</nav>\n",
            "<!-- </div>\n",
            " -->\n",
            "</header>\n",
            "<div class=\"page-content\">\n",
            "<div class=\"outer-wrapper\">\n",
            "<div class=\"wrapper\">\n",
            "<div class=\"main-content\">\n",
            "<h1>Lots of stuff to try web scraping on!</h1>\n",
            "<p>This page is full of different tags that you will commonly see\n",
            "    out in the wild on the web!</p>\n",
            "<h1>Example headlines</h1>\n",
            "<h2 class=\"headline\">I love this!</h2>\n",
            "<h2 class=\"headline\">I hate this so much!</h2>\n",
            "<h2 class=\"headline\">The dumbest thing happened</h2>\n",
            "<h2 class=\"headline\">This is a great workshop!</h2>\n",
            "<h2 class=\"headline\">This workshop is horrible</h2>\n",
            "<h2 class=\"headline\">I'm tired...</h2>\n",
            "<h2 class=\"headline\">This thing is ok...</h2>\n",
            "<h1>Example unordered list</h1>\n",
            "<ul>\n",
            "<li>Elon Musk is worth $21,000,000,000</li>\n",
            "<li>Jeff Bezos is worth $137,000,400,000 </li>\n",
            "<li>Bill Gates is worth $95,000,000,000</li>\n",
            "<li>Mark Zuckerburg is worth $54,600,000,000</li>\n",
            "</ul>\n",
            "<h1>Example links</h1>\n",
            "<a href=\"https://www.galvanize.com/data-science-prep\">Data Science Free prep</a>\n",
            "<a href=\"http://docs.python-requests.org/en/master/\">Python Requests</a>\n",
            "<a href=\"https://www.crummy.com/software/BeautifulSoup/\">Beautiful Soup</a>\n",
            "<a href=\"https://pandas.pydata.org/\">Pandas</a>\n",
            "<a href=\"https://www.nltk.org/\">NLTK</a>\n",
            "<a href=\"https://scrapy.org/\">Scrapy</a>\n",
            "<a href=\"https://www.anaconda.com/\">Anaconda</a>\n",
            "</div>\n",
            "</div>\n",
            "</div>\n",
            "<section id=\"footer\">\n",
            "<div class=\"row\">\n",
            "<div class=\"col-md-12\">\n",
            "<p class=\"footerp\">\n",
            "<a class=\"logo\" href=\"#top\">Sage Elliott</a>\n",
            "<br/>\n",
            "<a href=\"mailto:hello@sageelliott.com\">hello@SageElliott.com</a>\n",
            "<br/>\n",
            "<a href=\"https://twitter.com/sagecodes\">twitter</a> |\n",
            "                        <a href=\"https://github.com/sagecodes\">github</a> |\n",
            "                        <a href=\"https://www.linkedin.com/in/sageelliott\">linkedin</a>\n",
            "<br/> © 2019 Sage Elliott\n",
            "                    </p>\n",
            "</div>\n",
            "</div>\n",
            "</section>\n",
            "</div>\n",
            "</body>\n",
            "</html>\n",
            "\n"
          ],
          "name": "stdout"
        }
      ]
    },
    {
      "cell_type": "code",
      "metadata": {
        "id": "7gUqKWNTcycX",
        "colab_type": "code",
        "outputId": "e7a22843-0da4-4665-be69-2c74dc300649",
        "colab": {
          "base_uri": "https://localhost:8080/",
          "height": 1000
        }
      },
      "source": [
        "# using prettify() in Beautiful soup indents HTML like it should be in the web page\n",
        "# This can make reading teh HTML a little be easier\n",
        "print(soup.prettify())"
      ],
      "execution_count": 0,
      "outputs": [
        {
          "output_type": "stream",
          "text": [
            "<!DOCTYPE html>\n",
            "<html>\n",
            " <head>\n",
            "  <meta charset=\"utf-8\"/>\n",
            "  <meta content=\"IE=edge\" http-equiv=\"X-UA-Compatible\"/>\n",
            "  <meta content=\"width=device-width, initial-scale=1\" name=\"viewport\"/>\n",
            "  <title>\n",
            "   Web Scraping | Sage Elliott 🥑\n",
            "  </title>\n",
            "  <meta content=\"I make things.\" name=\"description\"/>\n",
            "  <link href=\"/css/main.css\" rel=\"stylesheet\"/>\n",
            "  <link href=\"http://sageelliott.com/scrape/\" rel=\"canonical\"/>\n",
            "  <link href=\"http://sageelliott.com/feed.xml\" rel=\"alternate\" title=\"Sage Elliott 🥑\" type=\"application/rss+xml\"/>\n",
            "  <script src=\"https://code.jquery.com/jquery-2.1.3.min.js\">\n",
            "  </script>\n",
            "  <script src=\"/js/bootstrap.min.js\">\n",
            "  </script>\n",
            "  <script src=\"/js/script.js\">\n",
            "  </script>\n",
            "  <link href=\"/css/bootstrap.min.css\" rel=\"stylesheet\"/>\n",
            "  <link href=\"/css/bootstrap-theme.min.css\" rel=\"stylesheet\"/>\n",
            "  <link href=\"/css/style.css\" rel=\"stylesheet\"/>\n",
            "  <link href=\"/css/responsive.css\" rel=\"stylesheet\"/>\n",
            "  <link href=\"https://fonts.googleapis.com/css?family=Pathway+Gothic+One|Alegreya:400italic,700italic,400,700|Alegreya+SC\" rel=\"stylesheet\" type=\"text/css\"/>\n",
            "  <!-- Global site tag (gtag.js) - Google Analytics -->\n",
            "  <script async=\"\" src=\"https://www.googletagmanager.com/gtag/js?id=UA-121052385-1\">\n",
            "  </script>\n",
            "  <script>\n",
            "   window.dataLayer = window.dataLayer || [];\n",
            "    function gtag(){dataLayer.push(arguments);}\n",
            "    gtag('js', new Date());\n",
            "\n",
            "    gtag('config', 'UA-121052385-1');\n",
            "  </script>\n",
            " </head>\n",
            " <link href=\"/img/logoblack.png\" rel=\"icon\" type=\"image/png\"/>\n",
            " <body data-spy=\"scroll\" data-target=\".navbar-collapse\">\n",
            "  <header class=\"site-header\">\n",
            "   <!--   <div class=\"wrapper\">\n",
            " -->\n",
            "   <!-- Navigation\n",
            "==========================================================================-->\n",
            "   <nav class=\"navbar navbar-default navbar-fixed-top\">\n",
            "    <div class=\"container-fluid\">\n",
            "     <!-- Brand and toggle get grouped for better mobile display -->\n",
            "     <div class=\"navbar-header\">\n",
            "      <button aria-expanded=\"false\" class=\"navbar-toggle collapsed\" data-target=\"#bs-example-navbar-collapse-1\" data-toggle=\"collapse\" type=\"button\">\n",
            "       Menu\n",
            "      </button>\n",
            "      <!-- <a class=\"logo\" class=\"navbar-brand\" href=\"/\"><img alt=\"Sage Elliott Logo\" src=\"/img/logoblack.png\"> </a> -->\n",
            "      <ul class=\"nav navbar-nav navbar-text\">\n",
            "       <li>\n",
            "        <a href=\"/\">\n",
            "         Sage Elliott\n",
            "        </a>\n",
            "       </li>\n",
            "      </ul>\n",
            "     </div>\n",
            "     <!-- Collect the nav links, forms, and other content for toggling -->\n",
            "     <div class=\"collapse navbar-collapse\" id=\"bs-example-navbar-collapse-1\">\n",
            "      <ul class=\"nav navbar-nav navbar-text\">\n",
            "       <!-- <li><a href=\"/\">Sage Elliott</a></li> -->\n",
            "      </ul>\n",
            "      <ul class=\"nav navbar-nav navbar-right\">\n",
            "       <li>\n",
            "        <a class=\"page-link\" href=\"/\">\n",
            "         About\n",
            "        </a>\n",
            "       </li>\n",
            "       <li>\n",
            "        <a class=\"page-link\" href=\"/projects\">\n",
            "         Projects\n",
            "        </a>\n",
            "       </li>\n",
            "       <li>\n",
            "        <a class=\"page-link\" href=\"/blog\">\n",
            "         Blog\n",
            "        </a>\n",
            "       </li>\n",
            "       <li>\n",
            "        <a class=\"page-link\" href=\"/speaking\">\n",
            "         Speaking\n",
            "        </a>\n",
            "       </li>\n",
            "      </ul>\n",
            "     </div>\n",
            "     <!-- /.navbar-collapse -->\n",
            "    </div>\n",
            "    <!-- /.container-fluid -->\n",
            "   </nav>\n",
            "   <!-- </div>\n",
            " -->\n",
            "  </header>\n",
            "  <div class=\"page-content\">\n",
            "   <div class=\"outer-wrapper\">\n",
            "    <div class=\"wrapper\">\n",
            "     <div class=\"main-content\">\n",
            "      <h1>\n",
            "       Lots of stuff to try web scraping on!\n",
            "      </h1>\n",
            "      <p>\n",
            "       This page is full of different tags that you will commonly see\n",
            "    out in the wild on the web!\n",
            "      </p>\n",
            "      <h1>\n",
            "       Example headlines\n",
            "      </h1>\n",
            "      <h2 class=\"headline\">\n",
            "       I love this!\n",
            "      </h2>\n",
            "      <h2 class=\"headline\">\n",
            "       I hate this so much!\n",
            "      </h2>\n",
            "      <h2 class=\"headline\">\n",
            "       The dumbest thing happened\n",
            "      </h2>\n",
            "      <h2 class=\"headline\">\n",
            "       This is a great workshop!\n",
            "      </h2>\n",
            "      <h2 class=\"headline\">\n",
            "       This workshop is horrible\n",
            "      </h2>\n",
            "      <h2 class=\"headline\">\n",
            "       I'm tired...\n",
            "      </h2>\n",
            "      <h2 class=\"headline\">\n",
            "       This thing is ok...\n",
            "      </h2>\n",
            "      <h1>\n",
            "       Example unordered list\n",
            "      </h1>\n",
            "      <ul>\n",
            "       <li>\n",
            "        Elon Musk is worth $21,000,000,000\n",
            "       </li>\n",
            "       <li>\n",
            "        Jeff Bezos is worth $137,000,400,000\n",
            "       </li>\n",
            "       <li>\n",
            "        Bill Gates is worth $95,000,000,000\n",
            "       </li>\n",
            "       <li>\n",
            "        Mark Zuckerburg is worth $54,600,000,000\n",
            "       </li>\n",
            "      </ul>\n",
            "      <h1>\n",
            "       Example links\n",
            "      </h1>\n",
            "      <a href=\"https://www.galvanize.com/data-science-prep\">\n",
            "       Data Science Free prep\n",
            "      </a>\n",
            "      <a href=\"http://docs.python-requests.org/en/master/\">\n",
            "       Python Requests\n",
            "      </a>\n",
            "      <a href=\"https://www.crummy.com/software/BeautifulSoup/\">\n",
            "       Beautiful Soup\n",
            "      </a>\n",
            "      <a href=\"https://pandas.pydata.org/\">\n",
            "       Pandas\n",
            "      </a>\n",
            "      <a href=\"https://www.nltk.org/\">\n",
            "       NLTK\n",
            "      </a>\n",
            "      <a href=\"https://scrapy.org/\">\n",
            "       Scrapy\n",
            "      </a>\n",
            "      <a href=\"https://www.anaconda.com/\">\n",
            "       Anaconda\n",
            "      </a>\n",
            "     </div>\n",
            "    </div>\n",
            "   </div>\n",
            "   <section id=\"footer\">\n",
            "    <div class=\"row\">\n",
            "     <div class=\"col-md-12\">\n",
            "      <p class=\"footerp\">\n",
            "       <a class=\"logo\" href=\"#top\">\n",
            "        Sage Elliott\n",
            "       </a>\n",
            "       <br/>\n",
            "       <a href=\"mailto:hello@sageelliott.com\">\n",
            "        hello@SageElliott.com\n",
            "       </a>\n",
            "       <br/>\n",
            "       <a href=\"https://twitter.com/sagecodes\">\n",
            "        twitter\n",
            "       </a>\n",
            "       |\n",
            "       <a href=\"https://github.com/sagecodes\">\n",
            "        github\n",
            "       </a>\n",
            "       |\n",
            "       <a href=\"https://www.linkedin.com/in/sageelliott\">\n",
            "        linkedin\n",
            "       </a>\n",
            "       <br/>\n",
            "       © 2019 Sage Elliott\n",
            "      </p>\n",
            "     </div>\n",
            "    </div>\n",
            "   </section>\n",
            "  </div>\n",
            " </body>\n",
            "</html>\n",
            "\n"
          ],
          "name": "stdout"
        }
      ]
    },
    {
      "cell_type": "markdown",
      "metadata": {
        "id": "vjuRzBSzqruq",
        "colab_type": "text"
      },
      "source": [
        "Often the content that you want to scrape will be inside a tag like `div` or similar element. \n",
        "In this case when we look at our HTML we see that the actual content of the page is inside of a `div` with a class of `main-content`. \n",
        "\n",
        "Lets grab all the content inside that `div` and save it to a variable. "
      ]
    },
    {
      "cell_type": "code",
      "metadata": {
        "id": "vmHYMk3jFPZE",
        "colab_type": "code",
        "outputId": "be64ecf2-503b-462d-d236-d0222bbc7f26",
        "colab": {
          "base_uri": "https://localhost:8080/",
          "height": 510
        }
      },
      "source": [
        "# get elements within the 'main-content' tag\n",
        "main_content = soup.find('div', attrs = {'class': 'main-content'})\n",
        "print(main_content)"
      ],
      "execution_count": 0,
      "outputs": [
        {
          "output_type": "stream",
          "text": [
            "<div class=\"main-content\">\n",
            "<h1>Lots of stuff to try web scraping on!</h1>\n",
            "<p>This page is full of different tags that you will commonly see\n",
            "    out in the wild on the web!</p>\n",
            "<h1>Example headlines</h1>\n",
            "<h2 class=\"headline\">I love this!</h2>\n",
            "<h2 class=\"headline\">I hate this so much!</h2>\n",
            "<h2 class=\"headline\">The dumbest thing happened</h2>\n",
            "<h2 class=\"headline\">This is a great workshop!</h2>\n",
            "<h2 class=\"headline\">This workshop is horrible</h2>\n",
            "<h2 class=\"headline\">I'm tired...</h2>\n",
            "<h2 class=\"headline\">This thing is ok...</h2>\n",
            "<h1>Example unordered list</h1>\n",
            "<ul>\n",
            "<li>Elon Musk is worth $21,000,000,000</li>\n",
            "<li>Jeff Bezos is worth $137,000,400,000 </li>\n",
            "<li>Bill Gates is worth $95,000,000,000</li>\n",
            "<li>Mark Zuckerburg is worth $54,600,000,000</li>\n",
            "</ul>\n",
            "<h1>Example links</h1>\n",
            "<a href=\"https://www.galvanize.com/data-science-prep\">Data Science Free prep</a>\n",
            "<a href=\"http://docs.python-requests.org/en/master/\">Python Requests</a>\n",
            "<a href=\"https://www.crummy.com/software/BeautifulSoup/\">Beautiful Soup</a>\n",
            "<a href=\"https://pandas.pydata.org/\">Pandas</a>\n",
            "<a href=\"https://www.nltk.org/\">NLTK</a>\n",
            "<a href=\"https://scrapy.org/\">Scrapy</a>\n",
            "<a href=\"https://www.anaconda.com/\">Anaconda</a>\n",
            "</div>\n"
          ],
          "name": "stdout"
        }
      ]
    },
    {
      "cell_type": "markdown",
      "metadata": {
        "id": "hI7xt49WrW94",
        "colab_type": "text"
      },
      "source": [
        "Lets drill deeper down into our content and look at different ways of selecting elements within our main-content div.\n",
        "\n",
        "We want to get just our items inside of the list"
      ]
    },
    {
      "cell_type": "code",
      "metadata": {
        "id": "hsLCOzoYdwBZ",
        "colab_type": "code",
        "outputId": "5500f364-de3c-4243-c055-9fef7417dfd6",
        "colab": {
          "base_uri": "https://localhost:8080/",
          "height": 123
        }
      },
      "source": [
        "# get the list items inside of a unorded list\n",
        "content = main_content.find('ul')\n",
        "\n",
        "print(content)"
      ],
      "execution_count": 0,
      "outputs": [
        {
          "output_type": "stream",
          "text": [
            "<ul>\n",
            "<li>Elon Musk is worth $21,000,000,000</li>\n",
            "<li>Jeff Bezos is worth $137,000,400,000 </li>\n",
            "<li>Bill Gates is worth $95,000,000,000</li>\n",
            "<li>Mark Zuckerburg is worth $54,600,000,000</li>\n",
            "</ul>\n"
          ],
          "name": "stdout"
        }
      ]
    },
    {
      "cell_type": "markdown",
      "metadata": {
        "id": "DfUwHBJTrtG9",
        "colab_type": "text"
      },
      "source": [
        "I'm going to be using examples like the above for most of this workshop, but I want to show that you could also chain the elements like the example below:"
      ]
    },
    {
      "cell_type": "code",
      "metadata": {
        "id": "TWP1Q7O9r9Nl",
        "colab_type": "code",
        "outputId": "46db5d87-4196-4c04-e1d7-f2c4d451a00f",
        "colab": {
          "base_uri": "https://localhost:8080/",
          "height": 123
        }
      },
      "source": [
        "# get elements within the 'main-content' tag\n",
        "list_content = soup.find('div', attrs = {'class': 'main-content'}).ul.text\n",
        "print(list_content)\n"
      ],
      "execution_count": 0,
      "outputs": [
        {
          "output_type": "stream",
          "text": [
            "\n",
            "Elon Musk is worth $21,000,000,000\n",
            "Jeff Bezos is worth $137,000,400,000 \n",
            "Bill Gates is worth $95,000,000,000\n",
            "Mark Zuckerburg is worth $54,600,000,000\n",
            "\n"
          ],
          "name": "stdout"
        }
      ]
    },
    {
      "cell_type": "markdown",
      "metadata": {
        "id": "6SlsY630sATq",
        "colab_type": "text"
      },
      "source": [
        "In the example above we still have all the HTML tags. \n",
        "Often you wont want the tags and you'll just be interested in the text between them.\n",
        "\n",
        "We can get the text between them using `.text` method from beautiful soup"
      ]
    },
    {
      "cell_type": "code",
      "metadata": {
        "id": "QpmXn3PFsa5Q",
        "colab_type": "code",
        "outputId": "3d85efcc-971c-401c-c0fe-0af564c91c24",
        "colab": {
          "base_uri": "https://localhost:8080/",
          "height": 123
        }
      },
      "source": [
        "# get the list items inside of a unorded list\n",
        "list_text_content = main_content.find('ul').text\n",
        "\n",
        "print(list_text_content)"
      ],
      "execution_count": 0,
      "outputs": [
        {
          "output_type": "stream",
          "text": [
            "\n",
            "Elon Musk is worth $21,000,000,000\n",
            "Jeff Bezos is worth $137,000,400,000 \n",
            "Bill Gates is worth $95,000,000,000\n",
            "Mark Zuckerburg is worth $54,600,000,000\n",
            "\n"
          ],
          "name": "stdout"
        }
      ]
    },
    {
      "cell_type": "markdown",
      "metadata": {
        "id": "owsuv5r5twSQ",
        "colab_type": "text"
      },
      "source": [
        "Lets get the headline elements\n",
        "\n",
        "When we look at the HTML we can see that they all have `h2` tags. \n"
      ]
    },
    {
      "cell_type": "code",
      "metadata": {
        "id": "N_cECgWQtwlk",
        "colab_type": "code",
        "outputId": "8931c8a7-4cb3-4eb9-859e-044dd159d6ab",
        "colab": {
          "base_uri": "https://localhost:8080/",
          "height": 35
        }
      },
      "source": [
        "# Try to get h2 elements\n",
        "content = main_content.find('h2').text\n",
        "\n",
        "print(content)"
      ],
      "execution_count": 0,
      "outputs": [
        {
          "output_type": "stream",
          "text": [
            "I love this!\n"
          ],
          "name": "stdout"
        }
      ]
    },
    {
      "cell_type": "markdown",
      "metadata": {
        "id": "5XbD-OTNtw9N",
        "colab_type": "text"
      },
      "source": [
        "Oh no! It looks like when using `.find()` it only returns the first matching element on the page.\n",
        "\n",
        "We can get all the matching elements by using the`.find_all()` method"
      ]
    },
    {
      "cell_type": "code",
      "metadata": {
        "id": "zmzxTDOeefmN",
        "colab_type": "code",
        "outputId": "c7289418-818b-4b8e-9eb1-b16f30b6a3a8",
        "colab": {
          "base_uri": "https://localhost:8080/",
          "height": 55
        }
      },
      "source": [
        "# get all the h2s on the page and display each one\n",
        "content = main_content.find_all('h2')\n",
        "\n",
        "print(content)\n"
      ],
      "execution_count": 0,
      "outputs": [
        {
          "output_type": "stream",
          "text": [
            "[<h2 class=\"headline\">I love this!</h2>, <h2 class=\"headline\">I hate this so much!</h2>, <h2 class=\"headline\">The dumbest thing happened</h2>, <h2 class=\"headline\">This is a great workshop!</h2>, <h2 class=\"headline\">This workshop is horrible</h2>, <h2 class=\"headline\">I'm tired...</h2>, <h2 class=\"headline\">This thing is ok...</h2>]\n"
          ],
          "name": "stdout"
        }
      ]
    },
    {
      "cell_type": "markdown",
      "metadata": {
        "id": "gWLelycXwlHk",
        "colab_type": "text"
      },
      "source": [
        "Notice when we print out content above it have the HTML h2 elements seperated by commas inside brackets []. This is called a `list`. Its ofen used to store multiple values in. \n",
        "\n",
        "Lists are iterable, and we can go through each item inside to print them out\n",
        "\n"
      ]
    },
    {
      "cell_type": "code",
      "metadata": {
        "id": "97Rv0YsJwlUL",
        "colab_type": "code",
        "outputId": "26354da9-f25b-483a-bbd6-5c7dddae8960",
        "colab": {
          "base_uri": "https://localhost:8080/",
          "height": 140
        }
      },
      "source": [
        "# Iterate content list and print out text inside each h2 element\n",
        "\n",
        "for h2 in content:\n",
        "    print(h2.text)"
      ],
      "execution_count": 0,
      "outputs": [
        {
          "output_type": "stream",
          "text": [
            "I love this!\n",
            "I hate this so much!\n",
            "The dumbest thing happened\n",
            "This is a great workshop!\n",
            "This workshop is horrible\n",
            "I'm tired...\n",
            "This thing is ok...\n"
          ],
          "name": "stdout"
        }
      ]
    },
    {
      "cell_type": "markdown",
      "metadata": {
        "id": "DBWcxH6saZph",
        "colab_type": "text"
      },
      "source": [
        "Here we look at an example of finding all the links.\n",
        "\n",
        "We then print out the link text and the URL(href)"
      ]
    },
    {
      "cell_type": "code",
      "metadata": {
        "id": "BZKMO-7bg7Ol",
        "colab_type": "code",
        "outputId": "054b0ff4-a517-4647-d147-170c70f70c50",
        "colab": {
          "base_uri": "https://localhost:8080/",
          "height": 263
        }
      },
      "source": [
        "# Get all links(a) in the main_content div. \n",
        "# for each link in list print link text and the link URL(href)\n",
        "\n",
        "content = main_content.find_all('a')\n",
        "\n",
        "for link in content:\n",
        "    print(link.text+\":\")\n",
        "    print(link['href'])\n"
      ],
      "execution_count": 0,
      "outputs": [
        {
          "output_type": "stream",
          "text": [
            "Data Science Free prep:\n",
            "https://www.galvanize.com/data-science-prep\n",
            "Python Requests:\n",
            "http://docs.python-requests.org/en/master/\n",
            "Beautiful Soup:\n",
            "https://www.crummy.com/software/BeautifulSoup/\n",
            "Pandas:\n",
            "https://pandas.pydata.org/\n",
            "NLTK:\n",
            "https://www.nltk.org/\n",
            "Scrapy:\n",
            "https://scrapy.org/\n",
            "Anaconda:\n",
            "https://www.anaconda.com/\n"
          ],
          "name": "stdout"
        }
      ]
    },
    {
      "cell_type": "markdown",
      "metadata": {
        "id": "qV0x2bkkvLm8",
        "colab_type": "text"
      },
      "source": [
        "# Data Cleaning / reformatting"
      ]
    },
    {
      "cell_type": "markdown",
      "metadata": {
        "id": "kw9Q7nXljKaP",
        "colab_type": "text"
      },
      "source": [
        "Now that we have used some ways to get data lets do some data cleaning with [Regex](https://regexr.com/). regex allows us to search for patterns in data types. It's super powerful, but can feel very complicated when starting out. I'm not going to go too deep into Regex, but I encourage you to learn more about it on your own!\n",
        "\n",
        "This site is a great place to start learning whats happening: https://regexr.com/\n",
        "\n",
        "\n",
        "\n",
        "Lets look at our list items again"
      ]
    },
    {
      "cell_type": "code",
      "metadata": {
        "id": "8u6YKX5vjcPK",
        "colab_type": "code",
        "outputId": "f7e474bc-4c97-4025-b140-4484be735665",
        "colab": {
          "base_uri": "https://localhost:8080/",
          "height": 123
        }
      },
      "source": [
        "# get the list items inside of a unorded list\n",
        "list_text_content = main_content.find('ul').text\n",
        "\n",
        "print(list_text_content)"
      ],
      "execution_count": 0,
      "outputs": [
        {
          "output_type": "stream",
          "text": [
            "\n",
            "Elon Musk is worth $21,000,000,000\n",
            "Jeff Bezos is worth $137,000,400,000 \n",
            "Bill Gates is worth $95,000,000,000\n",
            "Mark Zuckerburg is worth $54,600,000,000\n",
            "\n"
          ],
          "name": "stdout"
        }
      ]
    },
    {
      "cell_type": "markdown",
      "metadata": {
        "id": "JOaRCEq2jdIX",
        "colab_type": "text"
      },
      "source": [
        "Our list items are all text. But what if we want to get just the numbers do we can do numerical operations on them?"
      ]
    },
    {
      "cell_type": "code",
      "metadata": {
        "id": "MiWhO_UB189o",
        "colab_type": "code",
        "colab": {}
      },
      "source": [
        "# import Regex\n",
        "import re"
      ],
      "execution_count": 0,
      "outputs": []
    },
    {
      "cell_type": "code",
      "metadata": {
        "id": "NU4bRQ881wbI",
        "colab_type": "code",
        "outputId": "e7cd26a8-5895-47a8-940b-1918f7a80ab7",
        "colab": {
          "base_uri": "https://localhost:8080/",
          "height": 35
        }
      },
      "source": [
        "# Pattern to match the salaries | does this line start with a dollar sign?\n",
        "# find all the matching patterns for each line in our list\n",
        "\n",
        "salary_pattern = re.compile(r'\\$.+')\n",
        "salaries = salary_pattern.findall(list_text_content)\n",
        "\n",
        "print(salaries)"
      ],
      "execution_count": 0,
      "outputs": [
        {
          "output_type": "stream",
          "text": [
            "['$21,000,000,000', '$137,000,400,000 ', '$95,000,000,000', '$54,600,000,000']\n"
          ],
          "name": "stdout"
        }
      ]
    },
    {
      "cell_type": "markdown",
      "metadata": {
        "id": "rM44_A_93b5L",
        "colab_type": "text"
      },
      "source": [
        "This is great! We now have a list of the salaries, but there is still a problem if we want to do any numerical opporations or visualizations on it.\n",
        "\n",
        "They are still strings!"
      ]
    },
    {
      "cell_type": "code",
      "metadata": {
        "id": "gaDY65KTU5RR",
        "colab_type": "code",
        "colab": {}
      },
      "source": [
        "num_salaries = []\n",
        "\n",
        "for s in salaries:\n",
        "  s = int(''.join(s[1:].split(',')))\n",
        "  num_salaries.append(s)\n",
        "  "
      ],
      "execution_count": 0,
      "outputs": []
    },
    {
      "cell_type": "code",
      "metadata": {
        "id": "yeej74vtVHAc",
        "colab_type": "code",
        "outputId": "da74211f-1bab-446c-9961-a67afcc3f42e",
        "colab": {
          "base_uri": "https://localhost:8080/",
          "height": 35
        }
      },
      "source": [
        "print(num_salaries)"
      ],
      "execution_count": 0,
      "outputs": [
        {
          "output_type": "stream",
          "text": [
            "[21000000000, 137000400000, 95000000000, 54600000000]\n"
          ],
          "name": "stdout"
        }
      ]
    },
    {
      "cell_type": "markdown",
      "metadata": {
        "id": "bsa_88FZKlPM",
        "colab_type": "text"
      },
      "source": [
        "Lets do something useful with those numbers that we couldn't do if they were still text.\n",
        "\n",
        "We'll get the sum of all to see what the combined networth is:"
      ]
    },
    {
      "cell_type": "code",
      "metadata": {
        "id": "l_ziszvy2HmV",
        "colab_type": "code",
        "outputId": "d478eaba-62f3-421e-a8cd-8da972c4a9e9",
        "colab": {
          "base_uri": "https://localhost:8080/",
          "height": 35
        }
      },
      "source": [
        "# combined networth\n",
        "combined_worth = sum(num_salaries)\n",
        "\n",
        "print(combined_worth)\n",
        "\n"
      ],
      "execution_count": 0,
      "outputs": [
        {
          "output_type": "stream",
          "text": [
            "307600400000\n"
          ],
          "name": "stdout"
        }
      ]
    },
    {
      "cell_type": "markdown",
      "metadata": {
        "id": "hrucZIMzK3AB",
        "colab_type": "text"
      },
      "source": [
        "Awesome it worked! Lets go ahead and make it a little more readable to our human eyes"
      ]
    },
    {
      "cell_type": "code",
      "metadata": {
        "id": "42uRHbZU7ECN",
        "colab_type": "code",
        "outputId": "4cc559ee-b18d-49b9-c63b-d9a0273f3286",
        "colab": {
          "base_uri": "https://localhost:8080/",
          "height": 35
        }
      },
      "source": [
        "print (\"Combined worth is: ${:,}\".format(combined_worth))"
      ],
      "execution_count": 0,
      "outputs": [
        {
          "output_type": "stream",
          "text": [
            "Combined worth is: $307,600,400,000\n"
          ],
          "name": "stdout"
        }
      ]
    },
    {
      "cell_type": "markdown",
      "metadata": {
        "id": "FnWLaBnrLC5C",
        "colab_type": "text"
      },
      "source": [
        "Not bad! But we can do even better, that is a lot of decimals"
      ]
    },
    {
      "cell_type": "code",
      "metadata": {
        "id": "VHtRkjQuJc3i",
        "colab_type": "code",
        "outputId": "9da4f8cc-c631-4c93-c84e-edab686e5b21",
        "colab": {
          "base_uri": "https://localhost:8080/",
          "height": 35
        }
      },
      "source": [
        "# Even More readable format\n",
        "worth_billions = float(combined_worth /1000000000)\n",
        "\n",
        "print (\"Combined worth is: ${:.2f} billion\".format(worth_billions))"
      ],
      "execution_count": 0,
      "outputs": [
        {
          "output_type": "stream",
          "text": [
            "Combined worth is: $307.60 billion\n"
          ],
          "name": "stdout"
        }
      ]
    },
    {
      "cell_type": "markdown",
      "metadata": {
        "id": "jnQ4eqqY2d8D",
        "colab_type": "text"
      },
      "source": [
        "Cool! Now lets also get the list of names from the list\n",
        "\n",
        "We know that they are characters beginning on the line and the end before the word \"is\". \n",
        "\n",
        "Again, I'm not going to go deep into [Regex](https://regexr.com/) but learn more about it [here](https://regexr.com/)!\n",
        "\n"
      ]
    },
    {
      "cell_type": "code",
      "metadata": {
        "id": "1XDcZHMvjkGq",
        "colab_type": "code",
        "outputId": "8f636e9d-9675-44a0-cb99-c59a01234ae5",
        "colab": {
          "base_uri": "https://localhost:8080/",
          "height": 35
        }
      },
      "source": [
        "# Create a pattern to match the names\n",
        "name_pattern = re.compile(r'^([A-Z]{1}.+?)(?:is)', flags = re.M)\n",
        "names = name_pattern.findall(list_text_content)\n",
        "\n",
        "print(names)"
      ],
      "execution_count": 0,
      "outputs": [
        {
          "output_type": "stream",
          "text": [
            "['Elon Musk ', 'Jeff Bezos ', 'Bill Gates ', 'Mark Zuckerburg ']\n"
          ],
          "name": "stdout"
        }
      ]
    },
    {
      "cell_type": "markdown",
      "metadata": {
        "id": "G3B21YQWLqdl",
        "colab_type": "text"
      },
      "source": [
        "We now have a list of Names(text) and a list of Salaries(numbers)\n",
        "\n",
        "We want to put these together in various ways to help us look at the data.\n",
        "\n",
        "This is where [pandas](https://pandas.pydata.org/) will come in handy.\n",
        "\n",
        "Again in this we're only going to scratch the surface. You should read more about the features it has and experiment outside of this workshop. "
      ]
    },
    {
      "cell_type": "code",
      "metadata": {
        "id": "z0ukdUM02vPR",
        "colab_type": "code",
        "colab": {}
      },
      "source": [
        "# import pandas\n",
        "import pandas as pd"
      ],
      "execution_count": 0,
      "outputs": []
    },
    {
      "cell_type": "code",
      "metadata": {
        "id": "hEj79H7bKGqz",
        "colab_type": "code",
        "colab": {}
      },
      "source": [
        "# Put information into a dataframe\n",
        "table = pd.DataFrame({'salary': num_salaries, \n",
        "                   'Name': names})"
      ],
      "execution_count": 0,
      "outputs": []
    },
    {
      "cell_type": "code",
      "metadata": {
        "id": "_RqAPH0OMhNV",
        "colab_type": "code",
        "outputId": "baf37d6d-c87f-4ba0-ece9-48c2b562910c",
        "colab": {
          "base_uri": "https://localhost:8080/",
          "height": 172
        }
      },
      "source": [
        "table"
      ],
      "execution_count": 0,
      "outputs": [
        {
          "output_type": "execute_result",
          "data": {
            "text/html": [
              "<div>\n",
              "<style scoped>\n",
              "    .dataframe tbody tr th:only-of-type {\n",
              "        vertical-align: middle;\n",
              "    }\n",
              "\n",
              "    .dataframe tbody tr th {\n",
              "        vertical-align: top;\n",
              "    }\n",
              "\n",
              "    .dataframe thead th {\n",
              "        text-align: right;\n",
              "    }\n",
              "</style>\n",
              "<table border=\"1\" class=\"dataframe\">\n",
              "  <thead>\n",
              "    <tr style=\"text-align: right;\">\n",
              "      <th></th>\n",
              "      <th>salary</th>\n",
              "      <th>Name</th>\n",
              "    </tr>\n",
              "  </thead>\n",
              "  <tbody>\n",
              "    <tr>\n",
              "      <th>0</th>\n",
              "      <td>21000000000</td>\n",
              "      <td>Elon Musk</td>\n",
              "    </tr>\n",
              "    <tr>\n",
              "      <th>1</th>\n",
              "      <td>137000400000</td>\n",
              "      <td>Jeff Bezos</td>\n",
              "    </tr>\n",
              "    <tr>\n",
              "      <th>2</th>\n",
              "      <td>95000000000</td>\n",
              "      <td>Bill Gates</td>\n",
              "    </tr>\n",
              "    <tr>\n",
              "      <th>3</th>\n",
              "      <td>54600000000</td>\n",
              "      <td>Mark Zuckerburg</td>\n",
              "    </tr>\n",
              "  </tbody>\n",
              "</table>\n",
              "</div>"
            ],
            "text/plain": [
              "         salary              Name\n",
              "0   21000000000        Elon Musk \n",
              "1  137000400000       Jeff Bezos \n",
              "2   95000000000       Bill Gates \n",
              "3   54600000000  Mark Zuckerburg "
            ]
          },
          "metadata": {
            "tags": []
          },
          "execution_count": 26
        }
      ]
    },
    {
      "cell_type": "markdown",
      "metadata": {
        "id": "AagKak9VNCsG",
        "colab_type": "text"
      },
      "source": [
        "Hey that is much easier to read!\n",
        "\n",
        "But lets say we want to sort it buy who is worth the most, so we can see where people stand at a glance. "
      ]
    },
    {
      "cell_type": "code",
      "metadata": {
        "id": "pfG4F06W2Mu1",
        "colab_type": "code",
        "outputId": "56c63d1b-5bde-4fae-f102-90cc6c10159f",
        "colab": {
          "base_uri": "https://localhost:8080/",
          "height": 172
        }
      },
      "source": [
        "# Sort the values by highest to lowest salary\n",
        "table = table.sort_values('salary', ascending=True).reset_index().drop(columns='index')\n",
        "table\n"
      ],
      "execution_count": 0,
      "outputs": [
        {
          "output_type": "execute_result",
          "data": {
            "text/html": [
              "<div>\n",
              "<style scoped>\n",
              "    .dataframe tbody tr th:only-of-type {\n",
              "        vertical-align: middle;\n",
              "    }\n",
              "\n",
              "    .dataframe tbody tr th {\n",
              "        vertical-align: top;\n",
              "    }\n",
              "\n",
              "    .dataframe thead th {\n",
              "        text-align: right;\n",
              "    }\n",
              "</style>\n",
              "<table border=\"1\" class=\"dataframe\">\n",
              "  <thead>\n",
              "    <tr style=\"text-align: right;\">\n",
              "      <th></th>\n",
              "      <th>salary</th>\n",
              "      <th>Name</th>\n",
              "    </tr>\n",
              "  </thead>\n",
              "  <tbody>\n",
              "    <tr>\n",
              "      <th>0</th>\n",
              "      <td>21000000000</td>\n",
              "      <td>Elon Musk</td>\n",
              "    </tr>\n",
              "    <tr>\n",
              "      <th>1</th>\n",
              "      <td>54600000000</td>\n",
              "      <td>Mark Zuckerburg</td>\n",
              "    </tr>\n",
              "    <tr>\n",
              "      <th>2</th>\n",
              "      <td>95000000000</td>\n",
              "      <td>Bill Gates</td>\n",
              "    </tr>\n",
              "    <tr>\n",
              "      <th>3</th>\n",
              "      <td>137000400000</td>\n",
              "      <td>Jeff Bezos</td>\n",
              "    </tr>\n",
              "  </tbody>\n",
              "</table>\n",
              "</div>"
            ],
            "text/plain": [
              "         salary              Name\n",
              "0   21000000000        Elon Musk \n",
              "1   54600000000  Mark Zuckerburg \n",
              "2   95000000000       Bill Gates \n",
              "3  137000400000       Jeff Bezos "
            ]
          },
          "metadata": {
            "tags": []
          },
          "execution_count": 27
        }
      ]
    },
    {
      "cell_type": "markdown",
      "metadata": {
        "id": "wVaQSPW3NltX",
        "colab_type": "text"
      },
      "source": [
        "Awesome! Lets a do a quick bar graph to make it even easier!\n",
        "\n"
      ]
    },
    {
      "cell_type": "code",
      "metadata": {
        "id": "rQ6eLwLS5sld",
        "colab_type": "code",
        "outputId": "86e57e81-e4c6-4ab7-8556-6b4852e3a0e9",
        "colab": {
          "base_uri": "https://localhost:8080/",
          "height": 369
        }
      },
      "source": [
        "table.plot(kind='bar', x = 'Name', y = 'salary');"
      ],
      "execution_count": 0,
      "outputs": [
        {
          "output_type": "display_data",
          "data": {
            "image/png": "[encoded data removed]",
            "text/plain": [
              "<Figure size 432x288 with 1 Axes>"
            ]
          },
          "metadata": {
            "tags": []
          }
        }
      ]
    },
    {
      "cell_type": "markdown",
      "metadata": {
        "id": "W_nk7ZqMsg5R",
        "colab_type": "text"
      },
      "source": [
        "# Text Analysis"
      ]
    },
    {
      "cell_type": "markdown",
      "metadata": {
        "id": "pv54dRWqruGz",
        "colab_type": "text"
      },
      "source": [
        "Lets do some sentiment analysis on our headlines `h2` elements\n",
        "\n",
        "Maybe we're looking at a list of News headlines and we only want to read the ones we think are positive"
      ]
    },
    {
      "cell_type": "code",
      "metadata": {
        "id": "1BEkoKegP_QV",
        "colab_type": "code",
        "colab": {}
      },
      "source": [
        "# get all the h2s on the page and display each one\n",
        "content = main_content.find_all('h2')\n"
      ],
      "execution_count": 0,
      "outputs": []
    },
    {
      "cell_type": "code",
      "metadata": {
        "id": "TPzw0YW-QhY5",
        "colab_type": "code",
        "outputId": "9f421c1d-564b-45d2-a487-6f6b75400eed",
        "colab": {
          "base_uri": "https://localhost:8080/",
          "height": 55
        }
      },
      "source": [
        "print(content)"
      ],
      "execution_count": 0,
      "outputs": [
        {
          "output_type": "stream",
          "text": [
            "[<h2 class=\"headline\">I love this!</h2>, <h2 class=\"headline\">I hate this so much!</h2>, <h2 class=\"headline\">The dumbest thing happened</h2>, <h2 class=\"headline\">This is a great workshop!</h2>, <h2 class=\"headline\">This workshop is horrible</h2>, <h2 class=\"headline\">I'm tired...</h2>, <h2 class=\"headline\">This thing is ok...</h2>]\n"
          ],
          "name": "stdout"
        }
      ]
    },
    {
      "cell_type": "code",
      "metadata": {
        "id": "UaM-Q15JQfRE",
        "colab_type": "code",
        "colab": {}
      },
      "source": [
        "dataset =[]\n",
        "\n",
        "for h2 in content:\n",
        "    dataset.append(h2.text)\n",
        "    \n"
      ],
      "execution_count": 0,
      "outputs": []
    },
    {
      "cell_type": "code",
      "metadata": {
        "id": "nMwxZcffQp-b",
        "colab_type": "code",
        "outputId": "09d07b0d-8025-4ec2-915a-fa14c5b16677",
        "colab": {
          "base_uri": "https://localhost:8080/",
          "height": 35
        }
      },
      "source": [
        "print(dataset)"
      ],
      "execution_count": 0,
      "outputs": [
        {
          "output_type": "stream",
          "text": [
            "['I love this!', 'I hate this so much!', 'The dumbest thing happened', 'This is a great workshop!', 'This workshop is horrible', \"I'm tired...\", 'This thing is ok...']\n"
          ],
          "name": "stdout"
        }
      ]
    },
    {
      "cell_type": "markdown",
      "metadata": {
        "id": "ZA6fONMFRwQ6",
        "colab_type": "text"
      },
      "source": [
        "Import [NLTK](https://www.nltk.org/)(Natural Language Toolkit) python module\n",
        "\n",
        "Yet again we're only going to use just a tiny bit of NLTK, but if you're intertested in Natural Language Processing you should totally read more about it!!!"
      ]
    },
    {
      "cell_type": "code",
      "metadata": {
        "id": "ek-ovom_SH3m",
        "colab_type": "code",
        "outputId": "b20edb21-d69a-4c63-d32e-80a766b6894c",
        "colab": {
          "base_uri": "https://localhost:8080/",
          "height": 52
        }
      },
      "source": [
        "\n",
        "import nltk\n",
        "nltk.download('vader_lexicon')"
      ],
      "execution_count": 0,
      "outputs": [
        {
          "output_type": "stream",
          "text": [
            "[nltk_data] Downloading package vader_lexicon to /root/nltk_data...\n"
          ],
          "name": "stdout"
        },
        {
          "output_type": "execute_result",
          "data": {
            "text/plain": [
              "True"
            ]
          },
          "metadata": {
            "tags": []
          },
          "execution_count": 33
        }
      ]
    },
    {
      "cell_type": "code",
      "metadata": {
        "id": "gfjHMKGCl2Rj",
        "colab_type": "code",
        "outputId": "3e1d4d0c-a491-4411-e8e9-b08f27be65ec",
        "colab": {
          "base_uri": "https://localhost:8080/",
          "height": 72
        }
      },
      "source": [
        "from nltk.sentiment.vader import SentimentIntensityAnalyzer\n",
        "\n",
        "\n",
        "def sentiment(sentence):    \n",
        "    sentiment = SentimentIntensityAnalyzer()\n",
        "    score = sentiment.polarity_scores(sentence)\n",
        "    return score\n",
        " "
      ],
      "execution_count": 0,
      "outputs": [
        {
          "output_type": "stream",
          "text": [
            "/usr/local/lib/python3.6/dist-packages/nltk/twitter/__init__.py:20: UserWarning: The twython library has not been installed. Some functionality from the twitter package will not be available.\n",
            "  warnings.warn(\"The twython library has not been installed. \"\n"
          ],
          "name": "stderr"
        }
      ]
    },
    {
      "cell_type": "code",
      "metadata": {
        "id": "PkADv4rkSle_",
        "colab_type": "code",
        "outputId": "f9364b0d-80a7-4dd2-e802-26e175a6e740",
        "colab": {
          "base_uri": "https://localhost:8080/",
          "height": 510
        }
      },
      "source": [
        "for headline in dataset:\n",
        "  print(\"\\n\")\n",
        "  print(headline)\n",
        "  print(sentiment(headline))"
      ],
      "execution_count": 0,
      "outputs": [
        {
          "output_type": "stream",
          "text": [
            "\n",
            "\n",
            "I love this!\n",
            "{'neg': 0.0, 'neu': 0.182, 'pos': 0.818, 'compound': 0.6696}\n",
            "\n",
            "\n",
            "I hate this so much!\n",
            "{'neg': 0.571, 'neu': 0.429, 'pos': 0.0, 'compound': -0.6114}\n",
            "\n",
            "\n",
            "The dumbest thing happened\n",
            "{'neg': 0.524, 'neu': 0.476, 'pos': 0.0, 'compound': -0.5106}\n",
            "\n",
            "\n",
            "This is a great workshop!\n",
            "{'neg': 0.0, 'neu': 0.406, 'pos': 0.594, 'compound': 0.6588}\n",
            "\n",
            "\n",
            "This workshop is horrible\n",
            "{'neg': 0.538, 'neu': 0.462, 'pos': 0.0, 'compound': -0.5423}\n",
            "\n",
            "\n",
            "I'm tired...\n",
            "{'neg': 0.0, 'neu': 1.0, 'pos': 0.0, 'compound': 0.0}\n",
            "\n",
            "\n",
            "This thing is ok...\n",
            "{'neg': 0.0, 'neu': 1.0, 'pos': 0.0, 'compound': 0.0}\n"
          ],
          "name": "stdout"
        }
      ]
    },
    {
      "cell_type": "markdown",
      "metadata": {
        "id": "hvpOgtQouO0H",
        "colab_type": "text"
      },
      "source": [
        "Lets use Pandas to make our output better"
      ]
    },
    {
      "cell_type": "code",
      "metadata": {
        "id": "Q97bG3kBsP5e",
        "colab_type": "code",
        "outputId": "fa5c86fc-fbf0-407b-89fe-2a91da46e473",
        "colab": {
          "base_uri": "https://localhost:8080/",
          "height": 264
        }
      },
      "source": [
        "nltk_results = [sentiment(headline) for headline in dataset]\n",
        "\n",
        "results_df = pd.DataFrame(nltk_results)\n",
        "text_df = pd.DataFrame(dataset, columns = ['headline'])\n",
        "nltk_df = text_df.join(results_df)\n",
        "\n",
        "#print(nltk_results)\n",
        "nltk_df\n"
      ],
      "execution_count": 0,
      "outputs": [
        {
          "output_type": "execute_result",
          "data": {
            "text/html": [
              "<div>\n",
              "<style scoped>\n",
              "    .dataframe tbody tr th:only-of-type {\n",
              "        vertical-align: middle;\n",
              "    }\n",
              "\n",
              "    .dataframe tbody tr th {\n",
              "        vertical-align: top;\n",
              "    }\n",
              "\n",
              "    .dataframe thead th {\n",
              "        text-align: right;\n",
              "    }\n",
              "</style>\n",
              "<table border=\"1\" class=\"dataframe\">\n",
              "  <thead>\n",
              "    <tr style=\"text-align: right;\">\n",
              "      <th></th>\n",
              "      <th>headline</th>\n",
              "      <th>compound</th>\n",
              "      <th>neg</th>\n",
              "      <th>neu</th>\n",
              "      <th>pos</th>\n",
              "    </tr>\n",
              "  </thead>\n",
              "  <tbody>\n",
              "    <tr>\n",
              "      <th>0</th>\n",
              "      <td>I love this!</td>\n",
              "      <td>0.6696</td>\n",
              "      <td>0.000</td>\n",
              "      <td>0.182</td>\n",
              "      <td>0.818</td>\n",
              "    </tr>\n",
              "    <tr>\n",
              "      <th>1</th>\n",
              "      <td>I hate this so much!</td>\n",
              "      <td>-0.6114</td>\n",
              "      <td>0.571</td>\n",
              "      <td>0.429</td>\n",
              "      <td>0.000</td>\n",
              "    </tr>\n",
              "    <tr>\n",
              "      <th>2</th>\n",
              "      <td>The dumbest thing happened</td>\n",
              "      <td>-0.5106</td>\n",
              "      <td>0.524</td>\n",
              "      <td>0.476</td>\n",
              "      <td>0.000</td>\n",
              "    </tr>\n",
              "    <tr>\n",
              "      <th>3</th>\n",
              "      <td>This is a great workshop!</td>\n",
              "      <td>0.6588</td>\n",
              "      <td>0.000</td>\n",
              "      <td>0.406</td>\n",
              "      <td>0.594</td>\n",
              "    </tr>\n",
              "    <tr>\n",
              "      <th>4</th>\n",
              "      <td>This workshop is horrible</td>\n",
              "      <td>-0.5423</td>\n",
              "      <td>0.538</td>\n",
              "      <td>0.462</td>\n",
              "      <td>0.000</td>\n",
              "    </tr>\n",
              "    <tr>\n",
              "      <th>5</th>\n",
              "      <td>I'm tired...</td>\n",
              "      <td>0.0000</td>\n",
              "      <td>0.000</td>\n",
              "      <td>1.000</td>\n",
              "      <td>0.000</td>\n",
              "    </tr>\n",
              "    <tr>\n",
              "      <th>6</th>\n",
              "      <td>This thing is ok...</td>\n",
              "      <td>0.0000</td>\n",
              "      <td>0.000</td>\n",
              "      <td>1.000</td>\n",
              "      <td>0.000</td>\n",
              "    </tr>\n",
              "  </tbody>\n",
              "</table>\n",
              "</div>"
            ],
            "text/plain": [
              "                     headline  compound    neg    neu    pos\n",
              "0                I love this!    0.6696  0.000  0.182  0.818\n",
              "1        I hate this so much!   -0.6114  0.571  0.429  0.000\n",
              "2  The dumbest thing happened   -0.5106  0.524  0.476  0.000\n",
              "3   This is a great workshop!    0.6588  0.000  0.406  0.594\n",
              "4   This workshop is horrible   -0.5423  0.538  0.462  0.000\n",
              "5                I'm tired...    0.0000  0.000  1.000  0.000\n",
              "6         This thing is ok...    0.0000  0.000  1.000  0.000"
            ]
          },
          "metadata": {
            "tags": []
          },
          "execution_count": 36
        }
      ]
    },
    {
      "cell_type": "code",
      "metadata": {
        "id": "IAXxdbSTro09",
        "colab_type": "code",
        "outputId": "6c4d36b5-b1f4-43d0-8921-15caf3dec5b2",
        "colab": {
          "base_uri": "https://localhost:8080/",
          "height": 421
        }
      },
      "source": [
        "nltk_df.plot(kind='bar', x = 'headline', y = 'neg');"
      ],
      "execution_count": 0,
      "outputs": [
        {
          "output_type": "display_data",
          "data": {
            "image/png": "[encoded data removed]",
            "text/plain": [
              "<Figure size 432x288 with 1 Axes>"
            ]
          },
          "metadata": {
            "tags": []
          }
        }
      ]
    },
    {
      "cell_type": "code",
      "metadata": {
        "id": "7MKxLI6OS9jk",
        "colab_type": "code",
        "outputId": "6547c6f7-9c16-47f1-9cff-97094f13b52f",
        "colab": {
          "base_uri": "https://localhost:8080/",
          "height": 420
        }
      },
      "source": [
        "nltk_df.plot(kind='bar', x = 'headline', y = 'neu');"
      ],
      "execution_count": 0,
      "outputs": [
        {
          "output_type": "display_data",
          "data": {
            "image/png": "[encoded data removed]",
            "text/plain": [
              "<Figure size 432x288 with 1 Axes>"
            ]
          },
          "metadata": {
            "tags": []
          }
        }
      ]
    },
    {
      "cell_type": "code",
      "metadata": {
        "id": "tk345Nk6S-IY",
        "colab_type": "code",
        "outputId": "094652b0-4daa-4345-a333-f8b9dcc79513",
        "colab": {
          "base_uri": "https://localhost:8080/",
          "height": 420
        }
      },
      "source": [
        "nltk_df.plot(kind='bar', x = 'headline', y = 'pos');"
      ],
      "execution_count": 0,
      "outputs": [
        {
          "output_type": "display_data",
          "data": {
            "image/png": "[encoded data removed]",
            "text/plain": [
              "<Figure size 432x288 with 1 Axes>"
            ]
          },
          "metadata": {
            "tags": []
          }
        }
      ]
    },
    {
      "cell_type": "markdown",
      "metadata": {
        "id": "0_sKYH3Vv5mh",
        "colab_type": "text"
      },
      "source": [
        "# Back to git repo\n",
        "\n",
        "https://github.com/sagecodes/intro-web-scraping\n",
        "  "
      ]
    },
    {
      "cell_type": "code",
      "metadata": {
        "id": "7fB2ieBIYTjt",
        "colab_type": "code",
        "colab": {}
      },
      "source": [
        ""
      ],
      "execution_count": 0,
      "outputs": []
    }
  ]
}