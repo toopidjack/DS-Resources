{
  "nbformat": 4,
  "nbformat_minor": 0,
  "metadata": {
    "colab": {
      "name": "Copy of predict_the_box_office_FULL.ipynb",
      "provenance": [],
      "include_colab_link": true
    },
    "kernelspec": {
      "name": "python3",
      "display_name": "Python 3"
    }
  },
  "cells": [
    {
      "cell_type": "markdown",
      "metadata": {
        "id": "view-in-github",
        "colab_type": "text"
      },
      "source": [
        "<a href=\"https://colab.research.google.com/github/toopidjack/resources/blob/master/Copy_of_predict_the_box_office_FULL.ipynb\" target=\"_parent\"><img src=\"https://colab.research.google.com/assets/colab-badge.svg\" alt=\"Open In Colab\"/></a>"
      ]
    },
    {
      "cell_type": "code",
      "metadata": {
        "id": "zChTaZdcrEtZ",
        "colab_type": "code",
        "colab": {}
      },
      "source": [
        "import numpy as np\n",
        "import pandas as pd\n",
        "# visualization\n",
        "import matplotlib.pyplot as plt\n",
        "import seaborn as sns\n",
        "# modeling \n",
        "from sklearn import tree\n",
        "from sklearn.ensemble import RandomForestRegressor\n",
        "from sklearn.linear_model import LinearRegression\n",
        "from sklearn.metrics import mean_squared_error, r2_score\n",
        "# split data into two sets\n",
        "from sklearn.model_selection import train_test_split\n",
        "# visualizations will appear in the notebook\n",
        "%matplotlib inline\n",
        "\n",
        "# presets on pandas to change displays, calculations, etc\n",
        "pd.set_option('mode.chained_assignment', None) # will allow change assignment\n",
        "pd.set_option('display.float_format', '{:,.2f}'.format) # only display two decimals after floats"
      ],
      "execution_count": 0,
      "outputs": []
    },
    {
      "cell_type": "code",
      "metadata": {
        "id": "WbPmQnS6qjjN",
        "colab_type": "code",
        "colab": {}
      },
      "source": [
        "data = pd.read_csv(\"https://github.com/autumntoney/predict_the_box_office/raw/master/movie_metadata.csv\")"
      ],
      "execution_count": 0,
      "outputs": []
    },
    {
      "cell_type": "markdown",
      "metadata": {
        "id": "qAFgmjA_sRxy",
        "colab_type": "text"
      },
      "source": [
        "## Taking a look at the data"
      ]
    },
    {
      "cell_type": "markdown",
      "metadata": {
        "id": "ktmm74FIsXMp",
        "colab_type": "text"
      },
      "source": [
        "You need to \"run\" the two cells below, to do that select the cell and press:  *`Shift-Enter`*"
      ]
    },
    {
      "cell_type": "code",
      "metadata": {
        "id": "g6L3Xr2wr0Rp",
        "colab_type": "code",
        "outputId": "879488ed-49a0-4b74-cbe5-53b44ad9d586",
        "colab": {
          "base_uri": "https://localhost:8080/",
          "height": 377
        }
      },
      "source": [
        "# Run this cell (to do so press Shift-Enter)\n",
        "data.head(5)"
      ],
      "execution_count": 0,
      "outputs": [
        {
          "output_type": "execute_result",
          "data": {
            "text/html": [
              "<div>\n",
              "<style scoped>\n",
              "    .dataframe tbody tr th:only-of-type {\n",
              "        vertical-align: middle;\n",
              "    }\n",
              "\n",
              "    .dataframe tbody tr th {\n",
              "        vertical-align: top;\n",
              "    }\n",
              "\n",
              "    .dataframe thead th {\n",
              "        text-align: right;\n",
              "    }\n",
              "</style>\n",
              "<table border=\"1\" class=\"dataframe\">\n",
              "  <thead>\n",
              "    <tr style=\"text-align: right;\">\n",
              "      <th></th>\n",
              "      <th>color</th>\n",
              "      <th>director_name</th>\n",
              "      <th>num_critic_for_reviews</th>\n",
              "      <th>duration</th>\n",
              "      <th>director_facebook_likes</th>\n",
              "      <th>actor_3_facebook_likes</th>\n",
              "      <th>actor_2_name</th>\n",
              "      <th>actor_1_facebook_likes</th>\n",
              "      <th>gross</th>\n",
              "      <th>genres</th>\n",
              "      <th>actor_1_name</th>\n",
              "      <th>movie_title</th>\n",
              "      <th>num_voted_users</th>\n",
              "      <th>cast_total_facebook_likes</th>\n",
              "      <th>actor_3_name</th>\n",
              "      <th>facenumber_in_poster</th>\n",
              "      <th>plot_keywords</th>\n",
              "      <th>movie_imdb_link</th>\n",
              "      <th>num_user_for_reviews</th>\n",
              "      <th>language</th>\n",
              "      <th>country</th>\n",
              "      <th>content_rating</th>\n",
              "      <th>budget</th>\n",
              "      <th>title_year</th>\n",
              "      <th>actor_2_facebook_likes</th>\n",
              "      <th>imdb_score</th>\n",
              "      <th>aspect_ratio</th>\n",
              "      <th>movie_facebook_likes</th>\n",
              "    </tr>\n",
              "  </thead>\n",
              "  <tbody>\n",
              "    <tr>\n",
              "      <th>0</th>\n",
              "      <td>Color</td>\n",
              "      <td>James Cameron</td>\n",
              "      <td>723.00</td>\n",
              "      <td>178.00</td>\n",
              "      <td>0.00</td>\n",
              "      <td>855.00</td>\n",
              "      <td>Joel David Moore</td>\n",
              "      <td>1,000.00</td>\n",
              "      <td>760,505,847.00</td>\n",
              "      <td>Action|Adventure|Fantasy|Sci-Fi</td>\n",
              "      <td>CCH Pounder</td>\n",
              "      <td>Avatar</td>\n",
              "      <td>886204</td>\n",
              "      <td>4834</td>\n",
              "      <td>Wes Studi</td>\n",
              "      <td>0.00</td>\n",
              "      <td>avatar|future|marine|native|paraplegic</td>\n",
              "      <td>http://www.imdb.com/title/tt0499549/?ref_=fn_t...</td>\n",
              "      <td>3,054.00</td>\n",
              "      <td>English</td>\n",
              "      <td>USA</td>\n",
              "      <td>PG-13</td>\n",
              "      <td>237,000,000.00</td>\n",
              "      <td>2,009.00</td>\n",
              "      <td>936.00</td>\n",
              "      <td>7.90</td>\n",
              "      <td>1.78</td>\n",
              "      <td>33000</td>\n",
              "    </tr>\n",
              "    <tr>\n",
              "      <th>1</th>\n",
              "      <td>Color</td>\n",
              "      <td>Gore Verbinski</td>\n",
              "      <td>302.00</td>\n",
              "      <td>169.00</td>\n",
              "      <td>563.00</td>\n",
              "      <td>1,000.00</td>\n",
              "      <td>Orlando Bloom</td>\n",
              "      <td>40,000.00</td>\n",
              "      <td>309,404,152.00</td>\n",
              "      <td>Action|Adventure|Fantasy</td>\n",
              "      <td>Johnny Depp</td>\n",
              "      <td>Pirates of the Caribbean: At World's End</td>\n",
              "      <td>471220</td>\n",
              "      <td>48350</td>\n",
              "      <td>Jack Davenport</td>\n",
              "      <td>0.00</td>\n",
              "      <td>goddess|marriage ceremony|marriage proposal|pi...</td>\n",
              "      <td>http://www.imdb.com/title/tt0449088/?ref_=fn_t...</td>\n",
              "      <td>1,238.00</td>\n",
              "      <td>English</td>\n",
              "      <td>USA</td>\n",
              "      <td>PG-13</td>\n",
              "      <td>300,000,000.00</td>\n",
              "      <td>2,007.00</td>\n",
              "      <td>5,000.00</td>\n",
              "      <td>7.10</td>\n",
              "      <td>2.35</td>\n",
              "      <td>0</td>\n",
              "    </tr>\n",
              "    <tr>\n",
              "      <th>2</th>\n",
              "      <td>Color</td>\n",
              "      <td>Sam Mendes</td>\n",
              "      <td>602.00</td>\n",
              "      <td>148.00</td>\n",
              "      <td>0.00</td>\n",
              "      <td>161.00</td>\n",
              "      <td>Rory Kinnear</td>\n",
              "      <td>11,000.00</td>\n",
              "      <td>200,074,175.00</td>\n",
              "      <td>Action|Adventure|Thriller</td>\n",
              "      <td>Christoph Waltz</td>\n",
              "      <td>Spectre</td>\n",
              "      <td>275868</td>\n",
              "      <td>11700</td>\n",
              "      <td>Stephanie Sigman</td>\n",
              "      <td>1.00</td>\n",
              "      <td>bomb|espionage|sequel|spy|terrorist</td>\n",
              "      <td>http://www.imdb.com/title/tt2379713/?ref_=fn_t...</td>\n",
              "      <td>994.00</td>\n",
              "      <td>English</td>\n",
              "      <td>UK</td>\n",
              "      <td>PG-13</td>\n",
              "      <td>245,000,000.00</td>\n",
              "      <td>2,015.00</td>\n",
              "      <td>393.00</td>\n",
              "      <td>6.80</td>\n",
              "      <td>2.35</td>\n",
              "      <td>85000</td>\n",
              "    </tr>\n",
              "    <tr>\n",
              "      <th>3</th>\n",
              "      <td>Color</td>\n",
              "      <td>Christopher Nolan</td>\n",
              "      <td>813.00</td>\n",
              "      <td>164.00</td>\n",
              "      <td>22,000.00</td>\n",
              "      <td>23,000.00</td>\n",
              "      <td>Christian Bale</td>\n",
              "      <td>27,000.00</td>\n",
              "      <td>448,130,642.00</td>\n",
              "      <td>Action|Thriller</td>\n",
              "      <td>Tom Hardy</td>\n",
              "      <td>The Dark Knight Rises</td>\n",
              "      <td>1144337</td>\n",
              "      <td>106759</td>\n",
              "      <td>Joseph Gordon-Levitt</td>\n",
              "      <td>0.00</td>\n",
              "      <td>deception|imprisonment|lawlessness|police offi...</td>\n",
              "      <td>http://www.imdb.com/title/tt1345836/?ref_=fn_t...</td>\n",
              "      <td>2,701.00</td>\n",
              "      <td>English</td>\n",
              "      <td>USA</td>\n",
              "      <td>PG-13</td>\n",
              "      <td>250,000,000.00</td>\n",
              "      <td>2,012.00</td>\n",
              "      <td>23,000.00</td>\n",
              "      <td>8.50</td>\n",
              "      <td>2.35</td>\n",
              "      <td>164000</td>\n",
              "    </tr>\n",
              "    <tr>\n",
              "      <th>4</th>\n",
              "      <td>NaN</td>\n",
              "      <td>Doug Walker</td>\n",
              "      <td>nan</td>\n",
              "      <td>nan</td>\n",
              "      <td>131.00</td>\n",
              "      <td>nan</td>\n",
              "      <td>Rob Walker</td>\n",
              "      <td>131.00</td>\n",
              "      <td>nan</td>\n",
              "      <td>Documentary</td>\n",
              "      <td>Doug Walker</td>\n",
              "      <td>Star Wars: Episode VII - The Force Awakens    ...</td>\n",
              "      <td>8</td>\n",
              "      <td>143</td>\n",
              "      <td>NaN</td>\n",
              "      <td>0.00</td>\n",
              "      <td>NaN</td>\n",
              "      <td>http://www.imdb.com/title/tt5289954/?ref_=fn_t...</td>\n",
              "      <td>nan</td>\n",
              "      <td>NaN</td>\n",
              "      <td>NaN</td>\n",
              "      <td>NaN</td>\n",
              "      <td>nan</td>\n",
              "      <td>nan</td>\n",
              "      <td>12.00</td>\n",
              "      <td>7.10</td>\n",
              "      <td>nan</td>\n",
              "      <td>0</td>\n",
              "    </tr>\n",
              "  </tbody>\n",
              "</table>\n",
              "</div>"
            ],
            "text/plain": [
              "   color      director_name  ...  aspect_ratio  movie_facebook_likes\n",
              "0  Color      James Cameron  ...          1.78                 33000\n",
              "1  Color     Gore Verbinski  ...          2.35                     0\n",
              "2  Color         Sam Mendes  ...          2.35                 85000\n",
              "3  Color  Christopher Nolan  ...          2.35                164000\n",
              "4    NaN        Doug Walker  ...           nan                     0\n",
              "\n",
              "[5 rows x 28 columns]"
            ]
          },
          "metadata": {
            "tags": []
          },
          "execution_count": 3
        }
      ]
    },
    {
      "cell_type": "code",
      "metadata": {
        "id": "TJ_6QL6asZ35",
        "colab_type": "code",
        "outputId": "0bb090dd-f5a7-4741-a722-b4a19cea3c14",
        "colab": {
          "base_uri": "https://localhost:8080/",
          "height": 35
        }
      },
      "source": [
        "data.shape"
      ],
      "execution_count": 0,
      "outputs": [
        {
          "output_type": "execute_result",
          "data": {
            "text/plain": [
              "(5043, 28)"
            ]
          },
          "metadata": {
            "tags": []
          },
          "execution_count": 4
        }
      ]
    },
    {
      "cell_type": "code",
      "metadata": {
        "id": "dQGgzLkhscRK",
        "colab_type": "code",
        "outputId": "4f06c9a9-e6c5-4057-e349-63c088c51616",
        "colab": {
          "base_uri": "https://localhost:8080/",
          "height": 315
        }
      },
      "source": [
        "data.describe() ## will only do for numerical columns "
      ],
      "execution_count": 0,
      "outputs": [
        {
          "output_type": "execute_result",
          "data": {
            "text/html": [
              "<div>\n",
              "<style scoped>\n",
              "    .dataframe tbody tr th:only-of-type {\n",
              "        vertical-align: middle;\n",
              "    }\n",
              "\n",
              "    .dataframe tbody tr th {\n",
              "        vertical-align: top;\n",
              "    }\n",
              "\n",
              "    .dataframe thead th {\n",
              "        text-align: right;\n",
              "    }\n",
              "</style>\n",
              "<table border=\"1\" class=\"dataframe\">\n",
              "  <thead>\n",
              "    <tr style=\"text-align: right;\">\n",
              "      <th></th>\n",
              "      <th>num_critic_for_reviews</th>\n",
              "      <th>duration</th>\n",
              "      <th>director_facebook_likes</th>\n",
              "      <th>actor_3_facebook_likes</th>\n",
              "      <th>actor_1_facebook_likes</th>\n",
              "      <th>gross</th>\n",
              "      <th>num_voted_users</th>\n",
              "      <th>cast_total_facebook_likes</th>\n",
              "      <th>facenumber_in_poster</th>\n",
              "      <th>num_user_for_reviews</th>\n",
              "      <th>budget</th>\n",
              "      <th>title_year</th>\n",
              "      <th>actor_2_facebook_likes</th>\n",
              "      <th>imdb_score</th>\n",
              "      <th>aspect_ratio</th>\n",
              "      <th>movie_facebook_likes</th>\n",
              "    </tr>\n",
              "  </thead>\n",
              "  <tbody>\n",
              "    <tr>\n",
              "      <th>count</th>\n",
              "      <td>4,993.00</td>\n",
              "      <td>5,028.00</td>\n",
              "      <td>4,939.00</td>\n",
              "      <td>5,020.00</td>\n",
              "      <td>5,036.00</td>\n",
              "      <td>4,159.00</td>\n",
              "      <td>5,043.00</td>\n",
              "      <td>5,043.00</td>\n",
              "      <td>5,030.00</td>\n",
              "      <td>5,022.00</td>\n",
              "      <td>4,551.00</td>\n",
              "      <td>4,935.00</td>\n",
              "      <td>5,030.00</td>\n",
              "      <td>5,043.00</td>\n",
              "      <td>4,714.00</td>\n",
              "      <td>5,043.00</td>\n",
              "    </tr>\n",
              "    <tr>\n",
              "      <th>mean</th>\n",
              "      <td>140.19</td>\n",
              "      <td>107.20</td>\n",
              "      <td>686.51</td>\n",
              "      <td>645.01</td>\n",
              "      <td>6,560.05</td>\n",
              "      <td>48,507,385.63</td>\n",
              "      <td>83,668.16</td>\n",
              "      <td>9,699.06</td>\n",
              "      <td>1.37</td>\n",
              "      <td>272.77</td>\n",
              "      <td>39,752,620.44</td>\n",
              "      <td>2,002.47</td>\n",
              "      <td>1,651.75</td>\n",
              "      <td>6.44</td>\n",
              "      <td>2.22</td>\n",
              "      <td>7,525.96</td>\n",
              "    </tr>\n",
              "    <tr>\n",
              "      <th>std</th>\n",
              "      <td>121.60</td>\n",
              "      <td>25.20</td>\n",
              "      <td>2,813.33</td>\n",
              "      <td>1,665.04</td>\n",
              "      <td>15,020.76</td>\n",
              "      <td>68,471,915.43</td>\n",
              "      <td>138,485.26</td>\n",
              "      <td>18,163.80</td>\n",
              "      <td>2.01</td>\n",
              "      <td>377.98</td>\n",
              "      <td>206,114,898.45</td>\n",
              "      <td>12.47</td>\n",
              "      <td>4,042.44</td>\n",
              "      <td>1.13</td>\n",
              "      <td>1.39</td>\n",
              "      <td>19,320.45</td>\n",
              "    </tr>\n",
              "    <tr>\n",
              "      <th>min</th>\n",
              "      <td>1.00</td>\n",
              "      <td>7.00</td>\n",
              "      <td>0.00</td>\n",
              "      <td>0.00</td>\n",
              "      <td>0.00</td>\n",
              "      <td>162.00</td>\n",
              "      <td>5.00</td>\n",
              "      <td>0.00</td>\n",
              "      <td>0.00</td>\n",
              "      <td>1.00</td>\n",
              "      <td>218.00</td>\n",
              "      <td>1,916.00</td>\n",
              "      <td>0.00</td>\n",
              "      <td>1.60</td>\n",
              "      <td>1.18</td>\n",
              "      <td>0.00</td>\n",
              "    </tr>\n",
              "    <tr>\n",
              "      <th>25%</th>\n",
              "      <td>50.00</td>\n",
              "      <td>93.00</td>\n",
              "      <td>7.00</td>\n",
              "      <td>133.00</td>\n",
              "      <td>614.00</td>\n",
              "      <td>5,351,178.00</td>\n",
              "      <td>8,593.50</td>\n",
              "      <td>1,411.00</td>\n",
              "      <td>0.00</td>\n",
              "      <td>65.00</td>\n",
              "      <td>6,000,000.00</td>\n",
              "      <td>1,999.00</td>\n",
              "      <td>281.00</td>\n",
              "      <td>5.80</td>\n",
              "      <td>1.85</td>\n",
              "      <td>0.00</td>\n",
              "    </tr>\n",
              "    <tr>\n",
              "      <th>50%</th>\n",
              "      <td>110.00</td>\n",
              "      <td>103.00</td>\n",
              "      <td>49.00</td>\n",
              "      <td>371.50</td>\n",
              "      <td>988.00</td>\n",
              "      <td>25,528,495.00</td>\n",
              "      <td>34,359.00</td>\n",
              "      <td>3,090.00</td>\n",
              "      <td>1.00</td>\n",
              "      <td>156.00</td>\n",
              "      <td>20,000,000.00</td>\n",
              "      <td>2,005.00</td>\n",
              "      <td>595.00</td>\n",
              "      <td>6.60</td>\n",
              "      <td>2.35</td>\n",
              "      <td>166.00</td>\n",
              "    </tr>\n",
              "    <tr>\n",
              "      <th>75%</th>\n",
              "      <td>195.00</td>\n",
              "      <td>118.00</td>\n",
              "      <td>194.50</td>\n",
              "      <td>636.00</td>\n",
              "      <td>11,000.00</td>\n",
              "      <td>62,319,957.00</td>\n",
              "      <td>96,309.00</td>\n",
              "      <td>13,756.50</td>\n",
              "      <td>2.00</td>\n",
              "      <td>326.00</td>\n",
              "      <td>45,000,000.00</td>\n",
              "      <td>2,011.00</td>\n",
              "      <td>918.00</td>\n",
              "      <td>7.20</td>\n",
              "      <td>2.35</td>\n",
              "      <td>3,000.00</td>\n",
              "    </tr>\n",
              "    <tr>\n",
              "      <th>max</th>\n",
              "      <td>813.00</td>\n",
              "      <td>511.00</td>\n",
              "      <td>23,000.00</td>\n",
              "      <td>23,000.00</td>\n",
              "      <td>640,000.00</td>\n",
              "      <td>760,505,847.00</td>\n",
              "      <td>1,689,764.00</td>\n",
              "      <td>656,730.00</td>\n",
              "      <td>43.00</td>\n",
              "      <td>5,060.00</td>\n",
              "      <td>12,215,500,000.00</td>\n",
              "      <td>2,016.00</td>\n",
              "      <td>137,000.00</td>\n",
              "      <td>9.50</td>\n",
              "      <td>16.00</td>\n",
              "      <td>349,000.00</td>\n",
              "    </tr>\n",
              "  </tbody>\n",
              "</table>\n",
              "</div>"
            ],
            "text/plain": [
              "       num_critic_for_reviews  duration  ...  aspect_ratio  movie_facebook_likes\n",
              "count                4,993.00  5,028.00  ...      4,714.00              5,043.00\n",
              "mean                   140.19    107.20  ...          2.22              7,525.96\n",
              "std                    121.60     25.20  ...          1.39             19,320.45\n",
              "min                      1.00      7.00  ...          1.18                  0.00\n",
              "25%                     50.00     93.00  ...          1.85                  0.00\n",
              "50%                    110.00    103.00  ...          2.35                166.00\n",
              "75%                    195.00    118.00  ...          2.35              3,000.00\n",
              "max                    813.00    511.00  ...         16.00            349,000.00\n",
              "\n",
              "[8 rows x 16 columns]"
            ]
          },
          "metadata": {
            "tags": []
          },
          "execution_count": 5
        }
      ]
    },
    {
      "cell_type": "markdown",
      "metadata": {
        "id": "oXnft-sbse7a",
        "colab_type": "text"
      },
      "source": [
        "Some key points from this table:\n",
        "- Avg movie duration is 107.2 minutes\n",
        "- Avg imdb is 6.44\n",
        "- Avg number of users reviews is 272"
      ]
    },
    {
      "cell_type": "markdown",
      "metadata": {
        "id": "KnRhKiOzshuq",
        "colab_type": "text"
      },
      "source": [
        "## Cleaning the data"
      ]
    },
    {
      "cell_type": "markdown",
      "metadata": {
        "id": "EltETvi2sjZT",
        "colab_type": "text"
      },
      "source": [
        "### Dealing with duplicates\n"
      ]
    },
    {
      "cell_type": "code",
      "metadata": {
        "id": "X-vWGP6VsfgS",
        "colab_type": "code",
        "outputId": "13abd16c-6fae-44a1-8a37-427a854aaf1d",
        "colab": {
          "base_uri": "https://localhost:8080/",
          "height": 35
        }
      },
      "source": [
        "print ('Number of duplicates in data: {}'.format(\n",
        "    sum(data.duplicated(subset=['movie_title', 'title_year'], keep=False))))"
      ],
      "execution_count": 0,
      "outputs": [
        {
          "output_type": "stream",
          "text": [
            "Number of duplicates in data: 0\n"
          ],
          "name": "stdout"
        }
      ]
    },
    {
      "cell_type": "code",
      "metadata": {
        "id": "9hxYGx8Osl_q",
        "colab_type": "code",
        "colab": {}
      },
      "source": [
        "data = data.drop_duplicates(subset=['movie_title', 'title_year'], keep='first').copy()"
      ],
      "execution_count": 0,
      "outputs": []
    },
    {
      "cell_type": "markdown",
      "metadata": {
        "id": "6GGnuSQVson0",
        "colab_type": "text"
      },
      "source": [
        "### Fixing Null and some zero values"
      ]
    },
    {
      "cell_type": "code",
      "metadata": {
        "id": "T6ApFivRsni6",
        "colab_type": "code",
        "outputId": "b433b635-8618-4241-8688-ec2a7d47800a",
        "colab": {
          "base_uri": "https://localhost:8080/",
          "height": 35
        }
      },
      "source": [
        "# check if data has any null/nan values\n",
        "data.isnull().values.any()"
      ],
      "execution_count": 0,
      "outputs": [
        {
          "output_type": "execute_result",
          "data": {
            "text/plain": [
              "True"
            ]
          },
          "metadata": {
            "tags": []
          },
          "execution_count": 10
        }
      ]
    },
    {
      "cell_type": "code",
      "metadata": {
        "id": "8-ZzYJlsspH5",
        "colab_type": "code",
        "outputId": "cf0c44d8-b3fe-4937-86af-9acb95dc2248",
        "colab": {
          "base_uri": "https://localhost:8080/",
          "height": 203
        }
      },
      "source": [
        "# Check how many values are null in each column\n",
        "def show_missing_data(data):\n",
        "    missing_data = data.isnull().sum().reset_index()\n",
        "    missing_data.columns = ['column_name', 'missing_count']\n",
        "    missing_data['filling_factor'] = (data.shape[0] - missing_data['missing_count']) / data.shape[0] * 100\n",
        "    return missing_data.sort_values('filling_factor').reset_index(drop=True)\n",
        "\n",
        "show_missing_data(data)[:5]"
      ],
      "execution_count": 0,
      "outputs": [
        {
          "output_type": "execute_result",
          "data": {
            "text/html": [
              "<div>\n",
              "<style scoped>\n",
              "    .dataframe tbody tr th:only-of-type {\n",
              "        vertical-align: middle;\n",
              "    }\n",
              "\n",
              "    .dataframe tbody tr th {\n",
              "        vertical-align: top;\n",
              "    }\n",
              "\n",
              "    .dataframe thead th {\n",
              "        text-align: right;\n",
              "    }\n",
              "</style>\n",
              "<table border=\"1\" class=\"dataframe\">\n",
              "  <thead>\n",
              "    <tr style=\"text-align: right;\">\n",
              "      <th></th>\n",
              "      <th>column_name</th>\n",
              "      <th>missing_count</th>\n",
              "      <th>filling_factor</th>\n",
              "    </tr>\n",
              "  </thead>\n",
              "  <tbody>\n",
              "    <tr>\n",
              "      <th>0</th>\n",
              "      <td>gross</td>\n",
              "      <td>863</td>\n",
              "      <td>82.46</td>\n",
              "    </tr>\n",
              "    <tr>\n",
              "      <th>1</th>\n",
              "      <td>budget</td>\n",
              "      <td>485</td>\n",
              "      <td>90.14</td>\n",
              "    </tr>\n",
              "    <tr>\n",
              "      <th>2</th>\n",
              "      <td>aspect_ratio</td>\n",
              "      <td>326</td>\n",
              "      <td>93.37</td>\n",
              "    </tr>\n",
              "    <tr>\n",
              "      <th>3</th>\n",
              "      <td>content_rating</td>\n",
              "      <td>301</td>\n",
              "      <td>93.88</td>\n",
              "    </tr>\n",
              "    <tr>\n",
              "      <th>4</th>\n",
              "      <td>plot_keywords</td>\n",
              "      <td>152</td>\n",
              "      <td>96.91</td>\n",
              "    </tr>\n",
              "  </tbody>\n",
              "</table>\n",
              "</div>"
            ],
            "text/plain": [
              "      column_name  missing_count  filling_factor\n",
              "0           gross            863           82.46\n",
              "1          budget            485           90.14\n",
              "2    aspect_ratio            326           93.37\n",
              "3  content_rating            301           93.88\n",
              "4   plot_keywords            152           96.91"
            ]
          },
          "metadata": {
            "tags": []
          },
          "execution_count": 11
        }
      ]
    },
    {
      "cell_type": "markdown",
      "metadata": {
        "id": "SbFB8pMXst8b",
        "colab_type": "text"
      },
      "source": [
        "As we are working with the Gross Box Office, rows without it are of no use. So we will exclude those films that are missing the Gross Box Office."
      ]
    },
    {
      "cell_type": "code",
      "metadata": {
        "id": "fOW3FfHjssQK",
        "colab_type": "code",
        "outputId": "6d312d3f-0209-4c32-e9b2-19013a51ae32",
        "colab": {
          "base_uri": "https://localhost:8080/",
          "height": 203
        }
      },
      "source": [
        "data.dropna(subset=['gross'], how='all', inplace=True)\n",
        "show_missing_data(data)[:5]"
      ],
      "execution_count": 0,
      "outputs": [
        {
          "output_type": "execute_result",
          "data": {
            "text/html": [
              "<div>\n",
              "<style scoped>\n",
              "    .dataframe tbody tr th:only-of-type {\n",
              "        vertical-align: middle;\n",
              "    }\n",
              "\n",
              "    .dataframe tbody tr th {\n",
              "        vertical-align: top;\n",
              "    }\n",
              "\n",
              "    .dataframe thead th {\n",
              "        text-align: right;\n",
              "    }\n",
              "</style>\n",
              "<table border=\"1\" class=\"dataframe\">\n",
              "  <thead>\n",
              "    <tr style=\"text-align: right;\">\n",
              "      <th></th>\n",
              "      <th>column_name</th>\n",
              "      <th>missing_count</th>\n",
              "      <th>filling_factor</th>\n",
              "    </tr>\n",
              "  </thead>\n",
              "  <tbody>\n",
              "    <tr>\n",
              "      <th>0</th>\n",
              "      <td>budget</td>\n",
              "      <td>266</td>\n",
              "      <td>93.44</td>\n",
              "    </tr>\n",
              "    <tr>\n",
              "      <th>1</th>\n",
              "      <td>aspect_ratio</td>\n",
              "      <td>104</td>\n",
              "      <td>97.44</td>\n",
              "    </tr>\n",
              "    <tr>\n",
              "      <th>2</th>\n",
              "      <td>content_rating</td>\n",
              "      <td>64</td>\n",
              "      <td>98.42</td>\n",
              "    </tr>\n",
              "    <tr>\n",
              "      <th>3</th>\n",
              "      <td>plot_keywords</td>\n",
              "      <td>40</td>\n",
              "      <td>99.01</td>\n",
              "    </tr>\n",
              "    <tr>\n",
              "      <th>4</th>\n",
              "      <td>actor_3_name</td>\n",
              "      <td>13</td>\n",
              "      <td>99.68</td>\n",
              "    </tr>\n",
              "  </tbody>\n",
              "</table>\n",
              "</div>"
            ],
            "text/plain": [
              "      column_name  missing_count  filling_factor\n",
              "0          budget            266           93.44\n",
              "1    aspect_ratio            104           97.44\n",
              "2  content_rating             64           98.42\n",
              "3   plot_keywords             40           99.01\n",
              "4    actor_3_name             13           99.68"
            ]
          },
          "metadata": {
            "tags": []
          },
          "execution_count": 12
        }
      ]
    },
    {
      "cell_type": "markdown",
      "metadata": {
        "id": "Cn3tXQiksyvy",
        "colab_type": "text"
      },
      "source": [
        "Fill out missing budget datapoints with the median budget for the year it was released."
      ]
    },
    {
      "cell_type": "code",
      "metadata": {
        "id": "ZIXJW9UNsxLS",
        "colab_type": "code",
        "outputId": "06372e96-83be-4b7e-e3cd-ed8df08220ad",
        "colab": {
          "base_uri": "https://localhost:8080/",
          "height": 203
        }
      },
      "source": [
        "median_budget_per_year = data.groupby('title_year')['budget'].transform('median')\n",
        "data['budget'].fillna(median_budget_per_year, inplace=True)\n",
        "\n",
        "show_missing_data(data)[:5]"
      ],
      "execution_count": 0,
      "outputs": [
        {
          "output_type": "execute_result",
          "data": {
            "text/html": [
              "<div>\n",
              "<style scoped>\n",
              "    .dataframe tbody tr th:only-of-type {\n",
              "        vertical-align: middle;\n",
              "    }\n",
              "\n",
              "    .dataframe tbody tr th {\n",
              "        vertical-align: top;\n",
              "    }\n",
              "\n",
              "    .dataframe thead th {\n",
              "        text-align: right;\n",
              "    }\n",
              "</style>\n",
              "<table border=\"1\" class=\"dataframe\">\n",
              "  <thead>\n",
              "    <tr style=\"text-align: right;\">\n",
              "      <th></th>\n",
              "      <th>column_name</th>\n",
              "      <th>missing_count</th>\n",
              "      <th>filling_factor</th>\n",
              "    </tr>\n",
              "  </thead>\n",
              "  <tbody>\n",
              "    <tr>\n",
              "      <th>0</th>\n",
              "      <td>aspect_ratio</td>\n",
              "      <td>104</td>\n",
              "      <td>97.44</td>\n",
              "    </tr>\n",
              "    <tr>\n",
              "      <th>1</th>\n",
              "      <td>content_rating</td>\n",
              "      <td>64</td>\n",
              "      <td>98.42</td>\n",
              "    </tr>\n",
              "    <tr>\n",
              "      <th>2</th>\n",
              "      <td>plot_keywords</td>\n",
              "      <td>40</td>\n",
              "      <td>99.01</td>\n",
              "    </tr>\n",
              "    <tr>\n",
              "      <th>3</th>\n",
              "      <td>actor_3_name</td>\n",
              "      <td>13</td>\n",
              "      <td>99.68</td>\n",
              "    </tr>\n",
              "    <tr>\n",
              "      <th>4</th>\n",
              "      <td>actor_3_facebook_likes</td>\n",
              "      <td>13</td>\n",
              "      <td>99.68</td>\n",
              "    </tr>\n",
              "  </tbody>\n",
              "</table>\n",
              "</div>"
            ],
            "text/plain": [
              "              column_name  missing_count  filling_factor\n",
              "0            aspect_ratio            104           97.44\n",
              "1          content_rating             64           98.42\n",
              "2           plot_keywords             40           99.01\n",
              "3            actor_3_name             13           99.68\n",
              "4  actor_3_facebook_likes             13           99.68"
            ]
          },
          "metadata": {
            "tags": []
          },
          "execution_count": 13
        }
      ]
    },
    {
      "cell_type": "markdown",
      "metadata": {
        "id": "j1ZVap-Is2m6",
        "colab_type": "text"
      },
      "source": [
        "Fill out the rest of the missing data"
      ]
    },
    {
      "cell_type": "code",
      "metadata": {
        "id": "-kbS9qNOszNK",
        "colab_type": "code",
        "colab": {}
      },
      "source": [
        "data.fillna(0, inplace=True)"
      ],
      "execution_count": 0,
      "outputs": []
    },
    {
      "cell_type": "markdown",
      "metadata": {
        "id": "qXygicxRs5s8",
        "colab_type": "text"
      },
      "source": [
        "Delete all rows where `title_year` is zero"
      ]
    },
    {
      "cell_type": "code",
      "metadata": {
        "id": "FNwSYAfHs4Aa",
        "colab_type": "code",
        "colab": {}
      },
      "source": [
        "data = data[data['title_year'] != 0]"
      ],
      "execution_count": 0,
      "outputs": []
    },
    {
      "cell_type": "markdown",
      "metadata": {
        "id": "TM-dUpYDs7fb",
        "colab_type": "text"
      },
      "source": [
        "Budgets are in each country's currency so we are going to use only US movies"
      ]
    },
    {
      "cell_type": "code",
      "metadata": {
        "id": "OX5oiveSs67S",
        "colab_type": "code",
        "colab": {}
      },
      "source": [
        "data = data[data['country'] == 'USA']"
      ],
      "execution_count": 0,
      "outputs": []
    },
    {
      "cell_type": "markdown",
      "metadata": {
        "id": "w93B7tTrs_sC",
        "colab_type": "text"
      },
      "source": [
        "## Understanding the data"
      ]
    },
    {
      "cell_type": "code",
      "metadata": {
        "id": "lkcvcDyQs83C",
        "colab_type": "code",
        "outputId": "3e81162f-15d1-4ad8-ee51-5bd853f0f622",
        "colab": {
          "base_uri": "https://localhost:8080/",
          "height": 316
        }
      },
      "source": [
        "# IMDb rating distribution\n",
        "data.hist(column='imdb_score')"
      ],
      "execution_count": 0,
      "outputs": [
        {
          "output_type": "execute_result",
          "data": {
            "text/plain": [
              "array([[<matplotlib.axes._subplots.AxesSubplot object at 0x7f6db0eb4be0>]],\n",
              "      dtype=object)"
            ]
          },
          "metadata": {
            "tags": []
          },
          "execution_count": 17
        },
        {
          "output_type": "display_data",
          "data": {
            "image/png": "[encoded data removed]",
            "text/plain": [
              "<Figure size 432x288 with 1 Axes>"
            ]
          },
          "metadata": {
            "tags": []
          }
        }
      ]
    },
    {
      "cell_type": "code",
      "metadata": {
        "id": "mT3yZj43tAHb",
        "colab_type": "code",
        "outputId": "61df9047-ecf0-472b-decc-ec0f9d9e1f04",
        "colab": {
          "base_uri": "https://localhost:8080/",
          "height": 316
        }
      },
      "source": [
        "# Movies per year\n",
        "data.hist(column='title_year')"
      ],
      "execution_count": 0,
      "outputs": [
        {
          "output_type": "execute_result",
          "data": {
            "text/plain": [
              "array([[<matplotlib.axes._subplots.AxesSubplot object at 0x7f6dafbe0668>]],\n",
              "      dtype=object)"
            ]
          },
          "metadata": {
            "tags": []
          },
          "execution_count": 18
        },
        {
          "output_type": "display_data",
          "data": {
            "image/png": "[encoded data removed]",
            "text/plain": [
              "<Figure size 432x288 with 1 Axes>"
            ]
          },
          "metadata": {
            "tags": []
          }
        }
      ]
    },
    {
      "cell_type": "code",
      "metadata": {
        "id": "IP8LgcL1tDA6",
        "colab_type": "code",
        "outputId": "d1675df8-288b-4853-95a6-cf8499181c9b",
        "colab": {
          "base_uri": "https://localhost:8080/",
          "height": 531
        }
      },
      "source": [
        "# Median gross box office per actor\n",
        "fig = plt.figure(figsize=(8,8))\n",
        "comparison_df = data.groupby('actor_1_name', as_index=False).mean().sort_values('gross', ascending=False)\n",
        "\n",
        "name_count_key = data['actor_1_name'].value_counts().to_dict()\n",
        "comparison_df['films'] = comparison_df['actor_1_name'].map(name_count_key)\n",
        "\n",
        "comparison_df['actor_1_name'] = comparison_df['actor_1_name'].map(str) + \" (\" + comparison_df['films'].astype(str) + \")\"\n",
        "\n",
        "comparison_df[comparison_df['films'] >= 5][['actor_1_name', 'gross']][10::-1].set_index('actor_1_name').iloc[:,0].plot(kind='barh')\n",
        "plt.legend().set_visible(False)\n",
        "plt.title(\"Median Gross of Actor_1_name's Films\")\n",
        "plt.ylabel(\"Actor_1_name (# films)\")\n",
        "plt.xlabel(\"Gross (in million)\")"
      ],
      "execution_count": 0,
      "outputs": [
        {
          "output_type": "execute_result",
          "data": {
            "text/plain": [
              "Text(0.5, 0, 'Gross (in million)')"
            ]
          },
          "metadata": {
            "tags": []
          },
          "execution_count": 19
        },
        {
          "output_type": "display_data",
          "data": {
            "image/png": "[encoded data removed]",
            "text/plain": [
              "<Figure size 576x576 with 1 Axes>"
            ]
          },
          "metadata": {
            "tags": []
          }
        }
      ]
    },
    {
      "cell_type": "code",
      "metadata": {
        "id": "-KFNjxldtEZ6",
        "colab_type": "code",
        "outputId": "1288737a-d3a7-41ea-c927-d19a1866a523",
        "colab": {
          "base_uri": "https://localhost:8080/",
          "height": 309
        }
      },
      "source": [
        "# title year vs gross\n",
        "data.plot.scatter(x='title_year', y='gross', alpha=0.3)"
      ],
      "execution_count": 0,
      "outputs": [
        {
          "output_type": "execute_result",
          "data": {
            "text/plain": [
              "<matplotlib.axes._subplots.AxesSubplot at 0x7f6dad1ba0f0>"
            ]
          },
          "metadata": {
            "tags": []
          },
          "execution_count": 23
        },
        {
          "output_type": "display_data",
          "data": {
            "image/png": "[encoded data removed]",
            "text/plain": [
              "<Figure size 432x288 with 1 Axes>"
            ]
          },
          "metadata": {
            "tags": []
          }
        }
      ]
    },
    {
      "cell_type": "code",
      "metadata": {
        "id": "0W7y4PUjtNIa",
        "colab_type": "code",
        "outputId": "a8061a15-007a-4290-91eb-cbf164d6c64c",
        "colab": {
          "base_uri": "https://localhost:8080/",
          "height": 308
        }
      },
      "source": [
        "# budget vs gross\n",
        "data.plot.scatter(x='budget', y='gross', alpha = 0.3)"
      ],
      "execution_count": 0,
      "outputs": [
        {
          "output_type": "execute_result",
          "data": {
            "text/plain": [
              "<matplotlib.axes._subplots.AxesSubplot at 0x7f6dad102630>"
            ]
          },
          "metadata": {
            "tags": []
          },
          "execution_count": 25
        },
        {
          "output_type": "display_data",
          "data": {
            "image/png": "[encoded data removed]",
            "text/plain": [
              "<Figure size 432x288 with 1 Axes>"
            ]
          },
          "metadata": {
            "tags": []
          }
        }
      ]
    },
    {
      "cell_type": "code",
      "metadata": {
        "id": "rwBSilJStOaD",
        "colab_type": "code",
        "outputId": "2c66c167-bfc4-4234-a85b-962046e8311e",
        "colab": {
          "base_uri": "https://localhost:8080/",
          "height": 561
        }
      },
      "source": [
        "data.corr() # pearson correlation constant for each variable to other variables"
      ],
      "execution_count": 0,
      "outputs": [
        {
          "output_type": "execute_result",
          "data": {
            "text/html": [
              "<div>\n",
              "<style scoped>\n",
              "    .dataframe tbody tr th:only-of-type {\n",
              "        vertical-align: middle;\n",
              "    }\n",
              "\n",
              "    .dataframe tbody tr th {\n",
              "        vertical-align: top;\n",
              "    }\n",
              "\n",
              "    .dataframe thead th {\n",
              "        text-align: right;\n",
              "    }\n",
              "</style>\n",
              "<table border=\"1\" class=\"dataframe\">\n",
              "  <thead>\n",
              "    <tr style=\"text-align: right;\">\n",
              "      <th></th>\n",
              "      <th>num_critic_for_reviews</th>\n",
              "      <th>duration</th>\n",
              "      <th>director_facebook_likes</th>\n",
              "      <th>actor_3_facebook_likes</th>\n",
              "      <th>actor_1_facebook_likes</th>\n",
              "      <th>gross</th>\n",
              "      <th>num_voted_users</th>\n",
              "      <th>cast_total_facebook_likes</th>\n",
              "      <th>facenumber_in_poster</th>\n",
              "      <th>num_user_for_reviews</th>\n",
              "      <th>budget</th>\n",
              "      <th>title_year</th>\n",
              "      <th>actor_2_facebook_likes</th>\n",
              "      <th>imdb_score</th>\n",
              "      <th>aspect_ratio</th>\n",
              "      <th>movie_facebook_likes</th>\n",
              "    </tr>\n",
              "  </thead>\n",
              "  <tbody>\n",
              "    <tr>\n",
              "      <th>num_critic_for_reviews</th>\n",
              "      <td>1.00</td>\n",
              "      <td>0.28</td>\n",
              "      <td>0.19</td>\n",
              "      <td>0.28</td>\n",
              "      <td>0.18</td>\n",
              "      <td>0.49</td>\n",
              "      <td>0.61</td>\n",
              "      <td>0.25</td>\n",
              "      <td>-0.03</td>\n",
              "      <td>0.58</td>\n",
              "      <td>0.49</td>\n",
              "      <td>0.39</td>\n",
              "      <td>0.28</td>\n",
              "      <td>0.36</td>\n",
              "      <td>0.24</td>\n",
              "      <td>0.70</td>\n",
              "    </tr>\n",
              "    <tr>\n",
              "      <th>duration</th>\n",
              "      <td>0.28</td>\n",
              "      <td>1.00</td>\n",
              "      <td>0.21</td>\n",
              "      <td>0.14</td>\n",
              "      <td>0.10</td>\n",
              "      <td>0.29</td>\n",
              "      <td>0.37</td>\n",
              "      <td>0.14</td>\n",
              "      <td>0.01</td>\n",
              "      <td>0.37</td>\n",
              "      <td>0.30</td>\n",
              "      <td>-0.11</td>\n",
              "      <td>0.15</td>\n",
              "      <td>0.38</td>\n",
              "      <td>0.18</td>\n",
              "      <td>0.25</td>\n",
              "    </tr>\n",
              "    <tr>\n",
              "      <th>director_facebook_likes</th>\n",
              "      <td>0.19</td>\n",
              "      <td>0.21</td>\n",
              "      <td>1.00</td>\n",
              "      <td>0.13</td>\n",
              "      <td>0.09</td>\n",
              "      <td>0.14</td>\n",
              "      <td>0.32</td>\n",
              "      <td>0.12</td>\n",
              "      <td>-0.05</td>\n",
              "      <td>0.25</td>\n",
              "      <td>0.10</td>\n",
              "      <td>-0.06</td>\n",
              "      <td>0.12</td>\n",
              "      <td>0.22</td>\n",
              "      <td>0.06</td>\n",
              "      <td>0.18</td>\n",
              "    </tr>\n",
              "    <tr>\n",
              "      <th>actor_3_facebook_likes</th>\n",
              "      <td>0.28</td>\n",
              "      <td>0.14</td>\n",
              "      <td>0.13</td>\n",
              "      <td>1.00</td>\n",
              "      <td>0.25</td>\n",
              "      <td>0.28</td>\n",
              "      <td>0.27</td>\n",
              "      <td>0.47</td>\n",
              "      <td>0.10</td>\n",
              "      <td>0.22</td>\n",
              "      <td>0.27</td>\n",
              "      <td>0.12</td>\n",
              "      <td>0.54</td>\n",
              "      <td>0.09</td>\n",
              "      <td>0.07</td>\n",
              "      <td>0.30</td>\n",
              "    </tr>\n",
              "    <tr>\n",
              "      <th>actor_1_facebook_likes</th>\n",
              "      <td>0.18</td>\n",
              "      <td>0.10</td>\n",
              "      <td>0.09</td>\n",
              "      <td>0.25</td>\n",
              "      <td>1.00</td>\n",
              "      <td>0.13</td>\n",
              "      <td>0.18</td>\n",
              "      <td>0.95</td>\n",
              "      <td>0.06</td>\n",
              "      <td>0.13</td>\n",
              "      <td>0.15</td>\n",
              "      <td>0.09</td>\n",
              "      <td>0.38</td>\n",
              "      <td>0.12</td>\n",
              "      <td>0.07</td>\n",
              "      <td>0.13</td>\n",
              "    </tr>\n",
              "    <tr>\n",
              "      <th>gross</th>\n",
              "      <td>0.49</td>\n",
              "      <td>0.29</td>\n",
              "      <td>0.14</td>\n",
              "      <td>0.28</td>\n",
              "      <td>0.13</td>\n",
              "      <td>1.00</td>\n",
              "      <td>0.64</td>\n",
              "      <td>0.22</td>\n",
              "      <td>-0.03</td>\n",
              "      <td>0.56</td>\n",
              "      <td>0.65</td>\n",
              "      <td>0.03</td>\n",
              "      <td>0.24</td>\n",
              "      <td>0.26</td>\n",
              "      <td>0.13</td>\n",
              "      <td>0.38</td>\n",
              "    </tr>\n",
              "    <tr>\n",
              "      <th>num_voted_users</th>\n",
              "      <td>0.61</td>\n",
              "      <td>0.37</td>\n",
              "      <td>0.32</td>\n",
              "      <td>0.27</td>\n",
              "      <td>0.18</td>\n",
              "      <td>0.64</td>\n",
              "      <td>1.00</td>\n",
              "      <td>0.25</td>\n",
              "      <td>-0.04</td>\n",
              "      <td>0.79</td>\n",
              "      <td>0.42</td>\n",
              "      <td>0.02</td>\n",
              "      <td>0.25</td>\n",
              "      <td>0.50</td>\n",
              "      <td>0.14</td>\n",
              "      <td>0.53</td>\n",
              "    </tr>\n",
              "    <tr>\n",
              "      <th>cast_total_facebook_likes</th>\n",
              "      <td>0.25</td>\n",
              "      <td>0.14</td>\n",
              "      <td>0.12</td>\n",
              "      <td>0.47</td>\n",
              "      <td>0.95</td>\n",
              "      <td>0.22</td>\n",
              "      <td>0.25</td>\n",
              "      <td>1.00</td>\n",
              "      <td>0.08</td>\n",
              "      <td>0.19</td>\n",
              "      <td>0.23</td>\n",
              "      <td>0.12</td>\n",
              "      <td>0.62</td>\n",
              "      <td>0.13</td>\n",
              "      <td>0.09</td>\n",
              "      <td>0.21</td>\n",
              "    </tr>\n",
              "    <tr>\n",
              "      <th>facenumber_in_poster</th>\n",
              "      <td>-0.03</td>\n",
              "      <td>0.01</td>\n",
              "      <td>-0.05</td>\n",
              "      <td>0.10</td>\n",
              "      <td>0.06</td>\n",
              "      <td>-0.03</td>\n",
              "      <td>-0.04</td>\n",
              "      <td>0.08</td>\n",
              "      <td>1.00</td>\n",
              "      <td>-0.08</td>\n",
              "      <td>-0.03</td>\n",
              "      <td>0.08</td>\n",
              "      <td>0.07</td>\n",
              "      <td>-0.08</td>\n",
              "      <td>0.01</td>\n",
              "      <td>0.01</td>\n",
              "    </tr>\n",
              "    <tr>\n",
              "      <th>num_user_for_reviews</th>\n",
              "      <td>0.58</td>\n",
              "      <td>0.37</td>\n",
              "      <td>0.25</td>\n",
              "      <td>0.22</td>\n",
              "      <td>0.13</td>\n",
              "      <td>0.56</td>\n",
              "      <td>0.79</td>\n",
              "      <td>0.19</td>\n",
              "      <td>-0.08</td>\n",
              "      <td>1.00</td>\n",
              "      <td>0.42</td>\n",
              "      <td>0.02</td>\n",
              "      <td>0.20</td>\n",
              "      <td>0.34</td>\n",
              "      <td>0.15</td>\n",
              "      <td>0.40</td>\n",
              "    </tr>\n",
              "    <tr>\n",
              "      <th>budget</th>\n",
              "      <td>0.49</td>\n",
              "      <td>0.30</td>\n",
              "      <td>0.10</td>\n",
              "      <td>0.27</td>\n",
              "      <td>0.15</td>\n",
              "      <td>0.65</td>\n",
              "      <td>0.42</td>\n",
              "      <td>0.23</td>\n",
              "      <td>-0.03</td>\n",
              "      <td>0.42</td>\n",
              "      <td>1.00</td>\n",
              "      <td>0.22</td>\n",
              "      <td>0.24</td>\n",
              "      <td>0.07</td>\n",
              "      <td>0.20</td>\n",
              "      <td>0.33</td>\n",
              "    </tr>\n",
              "    <tr>\n",
              "      <th>title_year</th>\n",
              "      <td>0.39</td>\n",
              "      <td>-0.11</td>\n",
              "      <td>-0.06</td>\n",
              "      <td>0.12</td>\n",
              "      <td>0.09</td>\n",
              "      <td>0.03</td>\n",
              "      <td>0.02</td>\n",
              "      <td>0.12</td>\n",
              "      <td>0.08</td>\n",
              "      <td>0.02</td>\n",
              "      <td>0.22</td>\n",
              "      <td>1.00</td>\n",
              "      <td>0.12</td>\n",
              "      <td>-0.14</td>\n",
              "      <td>0.12</td>\n",
              "      <td>0.28</td>\n",
              "    </tr>\n",
              "    <tr>\n",
              "      <th>actor_2_facebook_likes</th>\n",
              "      <td>0.28</td>\n",
              "      <td>0.15</td>\n",
              "      <td>0.12</td>\n",
              "      <td>0.54</td>\n",
              "      <td>0.38</td>\n",
              "      <td>0.24</td>\n",
              "      <td>0.25</td>\n",
              "      <td>0.62</td>\n",
              "      <td>0.07</td>\n",
              "      <td>0.20</td>\n",
              "      <td>0.24</td>\n",
              "      <td>0.12</td>\n",
              "      <td>1.00</td>\n",
              "      <td>0.12</td>\n",
              "      <td>0.09</td>\n",
              "      <td>0.24</td>\n",
              "    </tr>\n",
              "    <tr>\n",
              "      <th>imdb_score</th>\n",
              "      <td>0.36</td>\n",
              "      <td>0.38</td>\n",
              "      <td>0.22</td>\n",
              "      <td>0.09</td>\n",
              "      <td>0.12</td>\n",
              "      <td>0.26</td>\n",
              "      <td>0.50</td>\n",
              "      <td>0.13</td>\n",
              "      <td>-0.08</td>\n",
              "      <td>0.34</td>\n",
              "      <td>0.07</td>\n",
              "      <td>-0.14</td>\n",
              "      <td>0.12</td>\n",
              "      <td>1.00</td>\n",
              "      <td>0.04</td>\n",
              "      <td>0.29</td>\n",
              "    </tr>\n",
              "    <tr>\n",
              "      <th>aspect_ratio</th>\n",
              "      <td>0.24</td>\n",
              "      <td>0.18</td>\n",
              "      <td>0.06</td>\n",
              "      <td>0.07</td>\n",
              "      <td>0.07</td>\n",
              "      <td>0.13</td>\n",
              "      <td>0.14</td>\n",
              "      <td>0.09</td>\n",
              "      <td>0.01</td>\n",
              "      <td>0.15</td>\n",
              "      <td>0.20</td>\n",
              "      <td>0.12</td>\n",
              "      <td>0.09</td>\n",
              "      <td>0.04</td>\n",
              "      <td>1.00</td>\n",
              "      <td>0.12</td>\n",
              "    </tr>\n",
              "    <tr>\n",
              "      <th>movie_facebook_likes</th>\n",
              "      <td>0.70</td>\n",
              "      <td>0.25</td>\n",
              "      <td>0.18</td>\n",
              "      <td>0.30</td>\n",
              "      <td>0.13</td>\n",
              "      <td>0.38</td>\n",
              "      <td>0.53</td>\n",
              "      <td>0.21</td>\n",
              "      <td>0.01</td>\n",
              "      <td>0.40</td>\n",
              "      <td>0.33</td>\n",
              "      <td>0.28</td>\n",
              "      <td>0.24</td>\n",
              "      <td>0.29</td>\n",
              "      <td>0.12</td>\n",
              "      <td>1.00</td>\n",
              "    </tr>\n",
              "  </tbody>\n",
              "</table>\n",
              "</div>"
            ],
            "text/plain": [
              "                           num_critic_for_reviews  ...  movie_facebook_likes\n",
              "num_critic_for_reviews                       1.00  ...                  0.70\n",
              "duration                                     0.28  ...                  0.25\n",
              "director_facebook_likes                      0.19  ...                  0.18\n",
              "actor_3_facebook_likes                       0.28  ...                  0.30\n",
              "actor_1_facebook_likes                       0.18  ...                  0.13\n",
              "gross                                        0.49  ...                  0.38\n",
              "num_voted_users                              0.61  ...                  0.53\n",
              "cast_total_facebook_likes                    0.25  ...                  0.21\n",
              "facenumber_in_poster                        -0.03  ...                  0.01\n",
              "num_user_for_reviews                         0.58  ...                  0.40\n",
              "budget                                       0.49  ...                  0.33\n",
              "title_year                                   0.39  ...                  0.28\n",
              "actor_2_facebook_likes                       0.28  ...                  0.24\n",
              "imdb_score                                   0.36  ...                  0.29\n",
              "aspect_ratio                                 0.24  ...                  0.12\n",
              "movie_facebook_likes                         0.70  ...                  1.00\n",
              "\n",
              "[16 rows x 16 columns]"
            ]
          },
          "metadata": {
            "tags": []
          },
          "execution_count": 26
        }
      ]
    },
    {
      "cell_type": "code",
      "metadata": {
        "id": "Wtbxz252tPpC",
        "colab_type": "code",
        "outputId": "926e336f-6d41-4fe6-de0d-506b8852db9c",
        "colab": {
          "base_uri": "https://localhost:8080/",
          "height": 734
        }
      },
      "source": [
        "# Set up the matplotlib figure\n",
        "f, ax = plt.subplots(figsize=(12, 10))\n",
        "plt.title('Pearson Correlation of Movie Features')\n",
        "\n",
        "# Draw the heatmap using seaborn\n",
        "sns.heatmap(data.corr(),linewidths=0.25,vmax=1.0, vmin=-1, square=True, cmap=\"YlGnBu\", linecolor='black', annot=True)\n",
        "\n",
        "# 70 - 80% highly correlated (passing)\n",
        "# 50 - 60% moderately correlated (failing)\n",
        "# works in the negative as well"
      ],
      "execution_count": 0,
      "outputs": [
        {
          "output_type": "execute_result",
          "data": {
            "text/plain": [
              "<matplotlib.axes._subplots.AxesSubplot at 0x7f6dace2fc50>"
            ]
          },
          "metadata": {
            "tags": []
          },
          "execution_count": 28
        },
        {
          "output_type": "display_data",
          "data": {
            "image/png": "[encoded data removed]",
            "text/plain": [
              "<Figure size 864x720 with 2 Axes>"
            ]
          },
          "metadata": {
            "tags": []
          }
        }
      ]
    },
    {
      "cell_type": "markdown",
      "metadata": {
        "id": "HsgXC6RKtYm7",
        "colab_type": "text"
      },
      "source": [
        "As we can see from the heatmap, there are regions (features) where we can see quite positive linear correlations amongst each other, given the darker shade of the colours - top left-hand corner and bottom right quarter. This is a good sign as it means we may be able to find linearly correlated features for which we can perform PCA projections on."
      ]
    },
    {
      "cell_type": "code",
      "metadata": {
        "id": "EXmfitL2tS0y",
        "colab_type": "code",
        "outputId": "e11d89d7-f31d-4374-e1a2-3eb46a4feea2",
        "colab": {
          "base_uri": "https://localhost:8080/",
          "height": 316
        }
      },
      "source": [
        "data.corr()['gross'].sort_values(ascending=False)"
      ],
      "execution_count": 0,
      "outputs": [
        {
          "output_type": "execute_result",
          "data": {
            "text/plain": [
              "gross                        1.00\n",
              "budget                       0.65\n",
              "num_voted_users              0.64\n",
              "num_user_for_reviews         0.56\n",
              "num_critic_for_reviews       0.49\n",
              "movie_facebook_likes         0.38\n",
              "duration                     0.29\n",
              "actor_3_facebook_likes       0.28\n",
              "imdb_score                   0.26\n",
              "actor_2_facebook_likes       0.24\n",
              "cast_total_facebook_likes    0.22\n",
              "director_facebook_likes      0.14\n",
              "actor_1_facebook_likes       0.13\n",
              "aspect_ratio                 0.13\n",
              "title_year                   0.03\n",
              "facenumber_in_poster        -0.03\n",
              "Name: gross, dtype: float64"
            ]
          },
          "metadata": {
            "tags": []
          },
          "execution_count": 29
        }
      ]
    },
    {
      "cell_type": "markdown",
      "metadata": {
        "id": "B9LUvLnDtbW7",
        "colab_type": "text"
      },
      "source": [
        "\n",
        "The gross box office correlates strongly with num_voted_users, num_users_for_reviews and movie_facebook_likes. But some of those features are also highly correlated among each other (as you can see in the heatmap above).\n",
        "\n"
      ]
    },
    {
      "cell_type": "markdown",
      "metadata": {
        "id": "hZZyK-4XtbmS",
        "colab_type": "text"
      },
      "source": [
        "## Gross Box Office Prediction\n"
      ]
    },
    {
      "cell_type": "markdown",
      "metadata": {
        "id": "DXhf3UvItbwU",
        "colab_type": "text"
      },
      "source": [
        "### Getting numerical data\n"
      ]
    },
    {
      "cell_type": "code",
      "metadata": {
        "id": "wf2i-mJCtaN7",
        "colab_type": "code",
        "outputId": "153746bf-0bf4-4146-dd1c-7130b1d58bda",
        "colab": {
          "base_uri": "https://localhost:8080/",
          "height": 130
        }
      },
      "source": [
        "numerical_columns = data.dtypes[data.dtypes != 'object'].index\n",
        "numerical_data = data[numerical_columns]\n",
        "\n",
        "# we drop aspect_ratio, as it doesn't provide any useful info\n",
        "numerical_data.drop('aspect_ratio', axis=1, inplace=True)\n",
        "numerical_data.head(2)"
      ],
      "execution_count": 0,
      "outputs": [
        {
          "output_type": "execute_result",
          "data": {
            "text/html": [
              "<div>\n",
              "<style scoped>\n",
              "    .dataframe tbody tr th:only-of-type {\n",
              "        vertical-align: middle;\n",
              "    }\n",
              "\n",
              "    .dataframe tbody tr th {\n",
              "        vertical-align: top;\n",
              "    }\n",
              "\n",
              "    .dataframe thead th {\n",
              "        text-align: right;\n",
              "    }\n",
              "</style>\n",
              "<table border=\"1\" class=\"dataframe\">\n",
              "  <thead>\n",
              "    <tr style=\"text-align: right;\">\n",
              "      <th></th>\n",
              "      <th>num_critic_for_reviews</th>\n",
              "      <th>duration</th>\n",
              "      <th>director_facebook_likes</th>\n",
              "      <th>actor_3_facebook_likes</th>\n",
              "      <th>actor_1_facebook_likes</th>\n",
              "      <th>gross</th>\n",
              "      <th>num_voted_users</th>\n",
              "      <th>cast_total_facebook_likes</th>\n",
              "      <th>facenumber_in_poster</th>\n",
              "      <th>num_user_for_reviews</th>\n",
              "      <th>budget</th>\n",
              "      <th>title_year</th>\n",
              "      <th>actor_2_facebook_likes</th>\n",
              "      <th>imdb_score</th>\n",
              "      <th>movie_facebook_likes</th>\n",
              "    </tr>\n",
              "  </thead>\n",
              "  <tbody>\n",
              "    <tr>\n",
              "      <th>0</th>\n",
              "      <td>723.00</td>\n",
              "      <td>178.00</td>\n",
              "      <td>0.00</td>\n",
              "      <td>855.00</td>\n",
              "      <td>1,000.00</td>\n",
              "      <td>760,505,847.00</td>\n",
              "      <td>886204</td>\n",
              "      <td>4834</td>\n",
              "      <td>0.00</td>\n",
              "      <td>3,054.00</td>\n",
              "      <td>237,000,000.00</td>\n",
              "      <td>2,009.00</td>\n",
              "      <td>936.00</td>\n",
              "      <td>7.90</td>\n",
              "      <td>33000</td>\n",
              "    </tr>\n",
              "    <tr>\n",
              "      <th>1</th>\n",
              "      <td>302.00</td>\n",
              "      <td>169.00</td>\n",
              "      <td>563.00</td>\n",
              "      <td>1,000.00</td>\n",
              "      <td>40,000.00</td>\n",
              "      <td>309,404,152.00</td>\n",
              "      <td>471220</td>\n",
              "      <td>48350</td>\n",
              "      <td>0.00</td>\n",
              "      <td>1,238.00</td>\n",
              "      <td>300,000,000.00</td>\n",
              "      <td>2,007.00</td>\n",
              "      <td>5,000.00</td>\n",
              "      <td>7.10</td>\n",
              "      <td>0</td>\n",
              "    </tr>\n",
              "  </tbody>\n",
              "</table>\n",
              "</div>"
            ],
            "text/plain": [
              "   num_critic_for_reviews  duration  ...  imdb_score  movie_facebook_likes\n",
              "0                  723.00    178.00  ...        7.90                 33000\n",
              "1                  302.00    169.00  ...        7.10                     0\n",
              "\n",
              "[2 rows x 15 columns]"
            ]
          },
          "metadata": {
            "tags": []
          },
          "execution_count": 31
        }
      ]
    },
    {
      "cell_type": "markdown",
      "metadata": {
        "id": "9btt1Ew7tkTu",
        "colab_type": "text"
      },
      "source": [
        "### Preparing train and test datasets"
      ]
    },
    {
      "cell_type": "code",
      "metadata": {
        "id": "ZMdqysKftiiq",
        "colab_type": "code",
        "colab": {}
      },
      "source": [
        "train, test = train_test_split(numerical_data, test_size=0.2) # rule of thumb is 15 - 25% test set\n",
        "target_train = train.pop('gross') # removes gross from the training set\n",
        "target_test = test.pop('gross') # removes gross from the test set"
      ],
      "execution_count": 0,
      "outputs": []
    },
    {
      "cell_type": "code",
      "metadata": {
        "id": "wS-GRbMDtmBC",
        "colab_type": "code",
        "outputId": "be051072-2127-4735-c3f3-56089742a1bf",
        "colab": {
          "base_uri": "https://localhost:8080/",
          "height": 52
        }
      },
      "source": [
        "print('Train data: {} / {} = {}'.format(len(train), len(numerical_data), float(len(train)/len(numerical_data))))\n",
        "print('Test data: {} / {} = {}'.format(len(test), len(numerical_data), float(len(test)/len(numerical_data))))"
      ],
      "execution_count": 0,
      "outputs": [
        {
          "output_type": "stream",
          "text": [
            "Train data: 2523 / 3154 = 0.7999365884590995\n",
            "Test data: 631 / 3154 = 0.20006341154090043\n"
          ],
          "name": "stdout"
        }
      ]
    },
    {
      "cell_type": "markdown",
      "metadata": {
        "id": "-0dnUJNztqAN",
        "colab_type": "text"
      },
      "source": [
        "### Linear Regression"
      ]
    },
    {
      "cell_type": "code",
      "metadata": {
        "id": "dv1uQFsJtn8K",
        "colab_type": "code",
        "outputId": "e24eb46e-5381-4397-d52f-c9f05ca37c7d",
        "colab": {
          "base_uri": "https://localhost:8080/",
          "height": 35
        }
      },
      "source": [
        "model = LinearRegression() # need to 'instantiate' it\n",
        "model.fit(train, target_train) # fits data into training set where it was removed"
      ],
      "execution_count": 0,
      "outputs": [
        {
          "output_type": "execute_result",
          "data": {
            "text/plain": [
              "LinearRegression(copy_X=True, fit_intercept=True, n_jobs=None, normalize=False)"
            ]
          },
          "metadata": {
            "tags": []
          },
          "execution_count": 34
        }
      ]
    },
    {
      "cell_type": "code",
      "metadata": {
        "id": "egvT0sdbtqZM",
        "colab_type": "code",
        "colab": {}
      },
      "source": [
        "prediction = model.predict(test)"
      ],
      "execution_count": 0,
      "outputs": []
    },
    {
      "cell_type": "code",
      "metadata": {
        "id": "4g00UtlOttsE",
        "colab_type": "code",
        "outputId": "6966fed1-dd54-4830-b6c9-037449ffbef1",
        "colab": {
          "base_uri": "https://localhost:8080/",
          "height": 324
        }
      },
      "source": [
        "# The mean squared error - reduce as much as possible\n",
        "print(\"Mean squared error: %.2f\" % mean_squared_error(target_test, prediction))\n",
        "\n",
        "# Explained variance score: 1 is perfect prediction\n",
        "print('Variance score: %.2f' % r2_score(target_test, prediction))\n",
        "# human data has problems so 0.5 is good for human behavior\n",
        "\n",
        "# Plot outputs\n",
        "plt.scatter(target_test, prediction,  color='black')\n",
        "# plt.plot(test, prediction, color='blue', linewidth=3)\n",
        "\n",
        "\n",
        "plt.show()"
      ],
      "execution_count": 0,
      "outputs": [
        {
          "output_type": "stream",
          "text": [
            "Mean squared error: 2851773372905014.00\n",
            "Variance score: 0.60\n"
          ],
          "name": "stdout"
        },
        {
          "output_type": "display_data",
          "data": {
            "image/png": "[encoded data removed]",
            "text/plain": [
              "<Figure size 432x288 with 1 Axes>"
            ]
          },
          "metadata": {
            "tags": []
          }
        }
      ]
    },
    {
      "cell_type": "markdown",
      "metadata": {
        "id": "DjqPqKhStwZl",
        "colab_type": "text"
      },
      "source": [
        "### Random Forest"
      ]
    },
    {
      "cell_type": "code",
      "metadata": {
        "id": "lfIc4Iuttuts",
        "colab_type": "code",
        "outputId": "c1d8fde9-bce1-44f7-f8f4-5be25fb60c2c",
        "colab": {
          "base_uri": "https://localhost:8080/",
          "height": 140
        }
      },
      "source": [
        "forest = RandomForestRegressor(\n",
        "    max_depth=25,\n",
        "    min_samples_split=15,\n",
        "    n_estimators=1000,\n",
        "    random_state=1)\n",
        "\n",
        "forest.fit(train, target_train)\n",
        "\n",
        "# grid search can be used to optimize the parameters so that it's running \n",
        "# with the most optimal parameters"
      ],
      "execution_count": 0,
      "outputs": [
        {
          "output_type": "execute_result",
          "data": {
            "text/plain": [
              "RandomForestRegressor(bootstrap=True, criterion='mse', max_depth=25,\n",
              "                      max_features='auto', max_leaf_nodes=None,\n",
              "                      min_impurity_decrease=0.0, min_impurity_split=None,\n",
              "                      min_samples_leaf=1, min_samples_split=15,\n",
              "                      min_weight_fraction_leaf=0.0, n_estimators=1000,\n",
              "                      n_jobs=None, oob_score=False, random_state=1, verbose=0,\n",
              "                      warm_start=False)"
            ]
          },
          "metadata": {
            "tags": []
          },
          "execution_count": 37
        }
      ]
    },
    {
      "cell_type": "code",
      "metadata": {
        "id": "Zd3GWVHZtw0c",
        "colab_type": "code",
        "outputId": "e325f7e5-fffc-4775-bfdf-6894fecc52c3",
        "colab": {
          "base_uri": "https://localhost:8080/",
          "height": 35
        }
      },
      "source": [
        "forest.feature_importances_"
      ],
      "execution_count": 0,
      "outputs": [
        {
          "output_type": "execute_result",
          "data": {
            "text/plain": [
              "1.0000000000000002"
            ]
          },
          "metadata": {
            "tags": []
          },
          "execution_count": 41
        }
      ]
    },
    {
      "cell_type": "code",
      "metadata": {
        "id": "EjKO0uFMt0EQ",
        "colab_type": "code",
        "colab": {}
      },
      "source": [
        "forest_prediction = forest.predict(test)"
      ],
      "execution_count": 0,
      "outputs": []
    },
    {
      "cell_type": "code",
      "metadata": {
        "id": "YoGlXiR1t1wM",
        "colab_type": "code",
        "outputId": "6328be72-cc53-4c44-9ac6-c84f6885eb43",
        "colab": {
          "base_uri": "https://localhost:8080/",
          "height": 324
        }
      },
      "source": [
        "# The mean squared error\n",
        "print(\"Mean squared error: %.2f\" % mean_squared_error(target_test, forest_prediction))\n",
        "\n",
        "# Explained variance score: 1 is perfect prediction\n",
        "print('Variance score: %.2f' % r2_score(target_test, forest_prediction))\n",
        "\n",
        "# Plot outputs\n",
        "plt.scatter(target_test, forest_prediction,  color='black')\n",
        "# plt.plot(test, prediction, color='blue', linewidth=3)\n",
        "\n",
        "\n",
        "plt.show()"
      ],
      "execution_count": 0,
      "outputs": [
        {
          "output_type": "stream",
          "text": [
            "Mean squared error: 2513648321369295.00\n",
            "Variance score: 0.64\n"
          ],
          "name": "stdout"
        },
        {
          "output_type": "display_data",
          "data": {
            "image/png": "[encoded data removed]",
            "text/plain": [
              "<Figure size 432x288 with 1 Axes>"
            ]
          },
          "metadata": {
            "tags": []
          }
        }
      ]
    },
    {
      "cell_type": "markdown",
      "metadata": {
        "id": "ZmhD-RaNt6p7",
        "colab_type": "text"
      },
      "source": [
        "## Dropping post-fact data"
      ]
    },
    {
      "cell_type": "markdown",
      "metadata": {
        "id": "7k4_neWet8PV",
        "colab_type": "text"
      },
      "source": [
        "There are post-fact variables in our data set making the prediction more accurate. Things like `num_voted_users` and `num_user_for_reviews` are after the fact metrics, so probably not as useful for prediction."
      ]
    },
    {
      "cell_type": "code",
      "metadata": {
        "id": "JBlIUAAOt47U",
        "colab_type": "code",
        "outputId": "6c14ba7c-3b3c-41a3-f80b-af20885498c0",
        "colab": {
          "base_uri": "https://localhost:8080/",
          "height": 130
        }
      },
      "source": [
        "train.head(2)"
      ],
      "execution_count": 0,
      "outputs": [
        {
          "output_type": "execute_result",
          "data": {
            "text/html": [
              "<div>\n",
              "<style scoped>\n",
              "    .dataframe tbody tr th:only-of-type {\n",
              "        vertical-align: middle;\n",
              "    }\n",
              "\n",
              "    .dataframe tbody tr th {\n",
              "        vertical-align: top;\n",
              "    }\n",
              "\n",
              "    .dataframe thead th {\n",
              "        text-align: right;\n",
              "    }\n",
              "</style>\n",
              "<table border=\"1\" class=\"dataframe\">\n",
              "  <thead>\n",
              "    <tr style=\"text-align: right;\">\n",
              "      <th></th>\n",
              "      <th>num_critic_for_reviews</th>\n",
              "      <th>duration</th>\n",
              "      <th>director_facebook_likes</th>\n",
              "      <th>actor_3_facebook_likes</th>\n",
              "      <th>actor_1_facebook_likes</th>\n",
              "      <th>num_voted_users</th>\n",
              "      <th>cast_total_facebook_likes</th>\n",
              "      <th>facenumber_in_poster</th>\n",
              "      <th>num_user_for_reviews</th>\n",
              "      <th>budget</th>\n",
              "      <th>title_year</th>\n",
              "      <th>actor_2_facebook_likes</th>\n",
              "      <th>imdb_score</th>\n",
              "      <th>movie_facebook_likes</th>\n",
              "    </tr>\n",
              "  </thead>\n",
              "  <tbody>\n",
              "    <tr>\n",
              "      <th>3285</th>\n",
              "      <td>32.00</td>\n",
              "      <td>120.00</td>\n",
              "      <td>92.00</td>\n",
              "      <td>862.00</td>\n",
              "      <td>1,000.00</td>\n",
              "      <td>6525</td>\n",
              "      <td>5420</td>\n",
              "      <td>6.00</td>\n",
              "      <td>79.00</td>\n",
              "      <td>9,000,000.00</td>\n",
              "      <td>1,999.00</td>\n",
              "      <td>886.00</td>\n",
              "      <td>6.70</td>\n",
              "      <td>0</td>\n",
              "    </tr>\n",
              "    <tr>\n",
              "      <th>2567</th>\n",
              "      <td>64.00</td>\n",
              "      <td>88.00</td>\n",
              "      <td>11,000.00</td>\n",
              "      <td>233.00</td>\n",
              "      <td>854.00</td>\n",
              "      <td>24256</td>\n",
              "      <td>1653</td>\n",
              "      <td>0.00</td>\n",
              "      <td>91.00</td>\n",
              "      <td>16,000,000.00</td>\n",
              "      <td>1,987.00</td>\n",
              "      <td>410.00</td>\n",
              "      <td>7.60</td>\n",
              "      <td>0</td>\n",
              "    </tr>\n",
              "  </tbody>\n",
              "</table>\n",
              "</div>"
            ],
            "text/plain": [
              "      num_critic_for_reviews  duration  ...  imdb_score  movie_facebook_likes\n",
              "3285                   32.00    120.00  ...        6.70                     0\n",
              "2567                   64.00     88.00  ...        7.60                     0\n",
              "\n",
              "[2 rows x 14 columns]"
            ]
          },
          "metadata": {
            "tags": []
          },
          "execution_count": 45
        }
      ]
    },
    {
      "cell_type": "code",
      "metadata": {
        "id": "DBkAVp9Bt7E7",
        "colab_type": "code",
        "outputId": "e931edac-6f22-45bc-daa2-1db29b43fdaa",
        "colab": {
          "base_uri": "https://localhost:8080/",
          "height": 130
        }
      },
      "source": [
        "train.drop(['num_critic_for_reviews', 'num_voted_users', 'num_user_for_reviews', 'imdb_score', 'movie_facebook_likes'], axis=1, inplace=True)\n",
        "test.drop(['num_critic_for_reviews', 'num_voted_users', 'num_user_for_reviews', 'imdb_score', 'movie_facebook_likes'], axis=1, inplace=True)\n",
        "train.head(2)"
      ],
      "execution_count": 0,
      "outputs": [
        {
          "output_type": "execute_result",
          "data": {
            "text/html": [
              "<div>\n",
              "<style scoped>\n",
              "    .dataframe tbody tr th:only-of-type {\n",
              "        vertical-align: middle;\n",
              "    }\n",
              "\n",
              "    .dataframe tbody tr th {\n",
              "        vertical-align: top;\n",
              "    }\n",
              "\n",
              "    .dataframe thead th {\n",
              "        text-align: right;\n",
              "    }\n",
              "</style>\n",
              "<table border=\"1\" class=\"dataframe\">\n",
              "  <thead>\n",
              "    <tr style=\"text-align: right;\">\n",
              "      <th></th>\n",
              "      <th>duration</th>\n",
              "      <th>director_facebook_likes</th>\n",
              "      <th>actor_3_facebook_likes</th>\n",
              "      <th>actor_1_facebook_likes</th>\n",
              "      <th>cast_total_facebook_likes</th>\n",
              "      <th>facenumber_in_poster</th>\n",
              "      <th>budget</th>\n",
              "      <th>title_year</th>\n",
              "      <th>actor_2_facebook_likes</th>\n",
              "    </tr>\n",
              "  </thead>\n",
              "  <tbody>\n",
              "    <tr>\n",
              "      <th>3285</th>\n",
              "      <td>120.00</td>\n",
              "      <td>92.00</td>\n",
              "      <td>862.00</td>\n",
              "      <td>1,000.00</td>\n",
              "      <td>5420</td>\n",
              "      <td>6.00</td>\n",
              "      <td>9,000,000.00</td>\n",
              "      <td>1,999.00</td>\n",
              "      <td>886.00</td>\n",
              "    </tr>\n",
              "    <tr>\n",
              "      <th>2567</th>\n",
              "      <td>88.00</td>\n",
              "      <td>11,000.00</td>\n",
              "      <td>233.00</td>\n",
              "      <td>854.00</td>\n",
              "      <td>1653</td>\n",
              "      <td>0.00</td>\n",
              "      <td>16,000,000.00</td>\n",
              "      <td>1,987.00</td>\n",
              "      <td>410.00</td>\n",
              "    </tr>\n",
              "  </tbody>\n",
              "</table>\n",
              "</div>"
            ],
            "text/plain": [
              "      duration  director_facebook_likes  ...  title_year  actor_2_facebook_likes\n",
              "3285    120.00                    92.00  ...    1,999.00                  886.00\n",
              "2567     88.00                11,000.00  ...    1,987.00                  410.00\n",
              "\n",
              "[2 rows x 9 columns]"
            ]
          },
          "metadata": {
            "tags": []
          },
          "execution_count": 46
        }
      ]
    },
    {
      "cell_type": "code",
      "metadata": {
        "id": "8iObCWqFuAL8",
        "colab_type": "code",
        "outputId": "a5033ae9-55ef-45d4-b0f0-accff44d9f94",
        "colab": {
          "base_uri": "https://localhost:8080/",
          "height": 140
        }
      },
      "source": [
        "pre_data_forest = RandomForestRegressor(\n",
        "    max_depth=25,\n",
        "    min_samples_split=15,\n",
        "    n_estimators=1000,\n",
        "    random_state=1)\n",
        "\n",
        "pre_data_forest.fit(train, target_train)"
      ],
      "execution_count": 0,
      "outputs": [
        {
          "output_type": "execute_result",
          "data": {
            "text/plain": [
              "RandomForestRegressor(bootstrap=True, criterion='mse', max_depth=25,\n",
              "                      max_features='auto', max_leaf_nodes=None,\n",
              "                      min_impurity_decrease=0.0, min_impurity_split=None,\n",
              "                      min_samples_leaf=1, min_samples_split=15,\n",
              "                      min_weight_fraction_leaf=0.0, n_estimators=1000,\n",
              "                      n_jobs=None, oob_score=False, random_state=1, verbose=0,\n",
              "                      warm_start=False)"
            ]
          },
          "metadata": {
            "tags": []
          },
          "execution_count": 48
        }
      ]
    },
    {
      "cell_type": "code",
      "metadata": {
        "id": "3C6E-x6juBUs",
        "colab_type": "code",
        "colab": {}
      },
      "source": [
        "second_prediction = pre_data_forest.predict(test)"
      ],
      "execution_count": 0,
      "outputs": []
    },
    {
      "cell_type": "code",
      "metadata": {
        "id": "imN4B2j0uCZ0",
        "colab_type": "code",
        "outputId": "eba595e8-a985-45fa-adbc-bd0ba1119a4d",
        "colab": {
          "base_uri": "https://localhost:8080/",
          "height": 324
        }
      },
      "source": [
        "# The mean squared error\n",
        "print(\"Mean squared error: %.2f\" % mean_squared_error(target_test, second_prediction))\n",
        "\n",
        "# Explained variance score: 1 is perfect prediction\n",
        "print('Variance score: %.2f' % r2_score(target_test, second_prediction))\n",
        "\n",
        "# Plot outputs\n",
        "plt.scatter(target_test, second_prediction,  color='black')\n",
        "# plt.plot(test, prediction, color='blue', linewidth=3)\n",
        "\n",
        "\n",
        "plt.show()"
      ],
      "execution_count": 0,
      "outputs": [
        {
          "output_type": "stream",
          "text": [
            "Mean squared error: 4032170185550186.00\n",
            "Variance score: 0.43\n"
          ],
          "name": "stdout"
        },
        {
          "output_type": "display_data",
          "data": {
            "image/png": "[encoded data removed]",
            "text/plain": [
              "<Figure size 432x288 with 1 Axes>"
            ]
          },
          "metadata": {
            "tags": []
          }
        }
      ]
    },
    {
      "cell_type": "markdown",
      "metadata": {
        "id": "wJpKVvdLuFMy",
        "colab_type": "text"
      },
      "source": [
        "## Over/Under performing movies"
      ]
    },
    {
      "cell_type": "code",
      "metadata": {
        "id": "Y2-_m3gvuDqj",
        "colab_type": "code",
        "colab": {}
      },
      "source": [
        "numerical_data_target = numerical_data.pop('gross')\n",
        "all_data_prediction = forest.predict(numerical_data)"
      ],
      "execution_count": 0,
      "outputs": []
    },
    {
      "cell_type": "code",
      "metadata": {
        "id": "DTDwLPTXuFpT",
        "colab_type": "code",
        "colab": {}
      },
      "source": [
        "performance_df = data.copy()\n",
        "\n",
        "performance_df[\"prediction\"] = all_data_prediction\n",
        "performance_df[\"performance_diff\"] = numerical_data_target - all_data_prediction\n",
        "\n",
        "performance_df.sort_values(['performance_diff'], ascending=False, inplace=True)"
      ],
      "execution_count": 0,
      "outputs": []
    },
    {
      "cell_type": "code",
      "metadata": {
        "id": "11Ih3NhguJAz",
        "colab_type": "code",
        "outputId": "f0ebbbc3-4112-47d7-b88f-cb772da99095",
        "colab": {
          "base_uri": "https://localhost:8080/",
          "height": 688
        }
      },
      "source": [
        "ind = np.arange(5)\n",
        "width = 0.35\n",
        "\n",
        "fig, ax = plt.subplots(figsize=(12, 8))\n",
        "\n",
        "gross = ax.bar(ind, performance_df.gross[:5], width, color='r')\n",
        "predicted_gross = ax.bar(ind + width, performance_df.prediction[:5], width, color='g')\n",
        "\n",
        "plt.title(\"Overperforming movies\")\n",
        "plt.ylabel(\"Gross (in million)\")\n",
        "\n",
        "ax.set_xticks(ind + width / 2)\n",
        "ax.set_xticklabels(performance_df.movie_title[:5], rotation='vertical')\n",
        "ax.legend((gross[0], predicted_gross[0]), ('Gross', 'Prediction'))"
      ],
      "execution_count": 0,
      "outputs": [
        {
          "output_type": "execute_result",
          "data": {
            "text/plain": [
              "<matplotlib.legend.Legend at 0x7f6dab075e80>"
            ]
          },
          "metadata": {
            "tags": []
          },
          "execution_count": 53
        },
        {
          "output_type": "display_data",
          "data": {
            "image/png": "[encoded data removed]",
            "text/plain": [
              "<Figure size 864x576 with 1 Axes>"
            ]
          },
          "metadata": {
            "tags": []
          }
        }
      ]
    },
    {
      "cell_type": "code",
      "metadata": {
        "id": "st3LrQuwuKfq",
        "colab_type": "code",
        "outputId": "36e905ee-03b4-4e3d-9496-e95bc58119cd",
        "colab": {
          "base_uri": "https://localhost:8080/",
          "height": 604
        }
      },
      "source": [
        "\n",
        "\n",
        "ind = np.arange(5)\n",
        "width = 0.35\n",
        "\n",
        "fig, ax = plt.subplots(figsize=(12, 8))\n",
        "\n",
        "gross = ax.bar(ind, performance_df.gross[:-6:-1], width, color='r')\n",
        "predicted_gross = ax.bar(ind + width, performance_df.prediction[:-6:-1], width, color='g')\n",
        "\n",
        "plt.title(\"Overperforming movies\")\n",
        "plt.ylabel(\"Gross (in million)\")\n",
        "\n",
        "ax.set_xticks(ind + width / 2)\n",
        "ax.set_xticklabels(performance_df.movie_title[:-6:-1], rotation='vertical')\n",
        "ax.legend((gross[0], predicted_gross[0]), ('Gross', 'Prediction'))"
      ],
      "execution_count": 0,
      "outputs": [
        {
          "output_type": "execute_result",
          "data": {
            "text/plain": [
              "<matplotlib.legend.Legend at 0x7f6dab01bdd8>"
            ]
          },
          "metadata": {
            "tags": []
          },
          "execution_count": 54
        },
        {
          "output_type": "display_data",
          "data": {
            "image/png": "[encoded data removed]",
            "text/plain": [
              "<Figure size 864x576 with 1 Axes>"
            ]
          },
          "metadata": {
            "tags": []
          }
        }
      ]
    },
    {
      "cell_type": "code",
      "metadata": {
        "id": "FJT4Hjy9uL5r",
        "colab_type": "code",
        "colab": {}
      },
      "source": [
        ""
      ],
      "execution_count": 0,
      "outputs": []
    }
  ]
}